{
 "cells": [
  {
   "cell_type": "code",
   "execution_count": null,
   "metadata": {
    "collapsed": true
   },
   "outputs": [],
   "source": [
    "http://www.pnas.org/content/93/19/10078.long"
   ]
  },
  {
   "cell_type": "code",
   "execution_count": 41,
   "metadata": {
    "collapsed": true
   },
   "outputs": [],
   "source": [
    "import numpy as np\n",
    "import math\n",
    "import matplotlib.pyplot as plt\n",
    "from scipy.integrate import odeint\n",
    "from scipy.interpolate import interp1d\n",
    "from matplotlib import rc\n",
    "\n",
    "#for latex-rendering. (I guess with a lot of redundancy.. but it works!)\n",
    "rc('text', usetex=True) #\n",
    "plt.rcParams['text.usetex'] = True #this line turns \"ticks\" on axis into latex  (i think is it the same function as the line above. not sure. )\n",
    "plt.rcParams['text.latex.unicode'] = True \n",
    "#for the size of the exported figures\n",
    "plt.rcParams['figure.figsize'] = (24, 18)\n",
    "rc('text.latex', preamble=r'\\usepackage{cmbright}')#this line turns text in legends for instance into latex"
   ]
  },
  {
   "cell_type": "code",
   "execution_count": 42,
   "metadata": {
    "collapsed": true
   },
   "outputs": [],
   "source": [
    "scale = 1\n",
    "\n",
    "tmax = 30\n",
    "tmaxLONG = 1000\n",
    " \n",
    "\n",
    "#(* mean value for the parameters *)\n",
    "WTV = 0.0023*scale\n",
    "#(* small to have a small input in the cascade, cf Ferrell.. *)\n",
    "\n",
    "nnWT = 10\n",
    "\n",
    "rasgapV = .0002*scale\n",
    "#(* we vary this paremeter in the code, so this value is not used *)\n",
    "\n",
    "k11V = 1 #(* randomly chosen *)\n",
    "k12V = 1\n",
    "\n",
    "d11V = 1 #(* randomly chosen *)\n",
    "d12V = 1 #(* randomly chosen *)\n",
    "a11V = 10000/scale #(* randomly chosen *)\n",
    "a12V = 10000/scale #(* randomly chosen *)\n",
    "nn = 10\n",
    "\n",
    "mostotV = .003*scale\n",
    "mektotV = 1.2*scale #(*1.2*)\n",
    "mekpasetotV = .0003*scale\n",
    "mapktotV = 1.2*scale\n",
    "mapkpasetotV = .12*scale\n",
    "e2totV = 0.0003*scale\n",
    "\n",
    "\n",
    "a1V = 1000/scale\n",
    "a2V = 1000/scale\n",
    "a3V = 1000/scale #(* for crossing 10 *)\n",
    "a4V = 1000/scale #(* for crossing 500 *)\n",
    "a5V = 1000/scale\n",
    "a6V = 1000/scale\n",
    "a7V = 1000/scale\n",
    "a8V = 1000/scale\n",
    "a9V = 1000/scale\n",
    "a10V = 1000/scale\n",
    "\n",
    "\n",
    "d1V = 150 #(* for crossing 15 *)\n",
    "d2V = 150\n",
    "d3V = 150\n",
    "d4V = 150\n",
    "d5V = 150\n",
    "d6V = 150\n",
    "d7V = 150\n",
    "d8V = 150\n",
    "d9V = 150\n",
    "d10V = 150\n",
    "\n",
    "\n",
    "k1V = 150\n",
    "k2V = 150\n",
    "k3V = 150\n",
    "k4V = 150\n",
    "k5V = 150\n",
    "k6V = 150\n",
    "k7V = 150\n",
    "k8V = 150\n",
    "k9V = 150\n",
    "k10V = 150"
   ]
  },
  {
   "cell_type": "code",
   "execution_count": 49,
   "metadata": {
    "collapsed": true
   },
   "outputs": [],
   "source": [
    "var_names = 'mos', 'mose1', 'mosstar', 'mosstare2', 'mek', 'mekmosstar', 'mekstar', 'mekstarmekpase', 'mekstarmosstar', \\\n",
    "    'mekstarstar', 'mekstarstarmekpase', 'mapk', 'mapkmekstarstar', 'mapkstar', \\\n",
    "    'mapkstarmekstarstar', 'mapkstarstar', 'mapkstarmapkpase', \\\n",
    "    'mapkstarstarmapkpase'\n",
    "    \n",
    "params_names = 'mostot', 'e2tot', 'mektot', 'mekpasetot', 'mapktot', 'mapkpasetot', \\\n",
    "    'a1', 'a2', 'a3', 'a4', 'a5', 'a6', 'a7', 'a8', 'a9', 'a10', \\\n",
    "    'd1', 'd2', 'd3', 'd4', 'd5', 'd6', 'd7', 'd8', 'd9', 'd10', \\\n",
    "    'k1', 'k2', 'k3', 'k4', 'k5', 'k6', 'k7', 'k8', 'k9', 'k10','WT', 'rasgdp', 'WE1', 'WsE2'\n",
    "\n",
    "def equationsmodel(var, t, params):\n",
    "    \n",
    "    mos, mose1, mosstar, mosstare2, mek, mekmosstar, mekstar, mekstarmekpase, mekstarmosstar,\\\n",
    "    mekstarstar,mekstarstarmekpase, mapk, mapkmekstarstar, mapkstar, \\\n",
    "    mapkstarmekstarstar, mapkstarstar, mapkstarmapkpase, \\\n",
    "    mapkstarstarmapkpase = var\n",
    "    \n",
    "    mostot, e2tot, mektot, mekpasetot, mapktot, mapkpasetot, \\\n",
    "    a1, a2, a3, a4, a5, a6, a7, a8, a9, a10, \\\n",
    "    d1, d2, d3, d4, d5, d6, d7, d8, d9, d10, \\\n",
    "    k1, k2, k3, k4, k5, k6, k7, k8, k9, k10, WT, rasgdp, WE1,WsE2 = params\n",
    "    \n",
    "    dmos = -a1*(mostot - mosstar - mose1 - mosstare2 - mekmosstar - \\\n",
    "    mekstarmosstar)*((WT - rasgdp - WE1 - WsE2) - mose1) + d1*mose1 +\\\n",
    "    k2*mosstare2\n",
    "    \n",
    "    dmose1 = a1*(mostot - mosstar - mose1 - mosstare2 - mekmosstar - \\\n",
    "    mekstarmosstar)*((WT - rasgdp - WE1 - WsE2) - mose1) -(d1+k1)*mose1\n",
    "    \n",
    "    dmosstar = -a2*mosstar*(e2tot - mosstare2) + d2*mosstare2 + k1*mose1 + \\\n",
    "    (k3 + d3)*mekmosstar -  a3*mosstar*(mektot - mekstar - mekstarstar - \\\n",
    "    mekstarmekpase - mekstarstarmekpase - mekmosstar - mekstarmosstar - \\\n",
    "    mapkmekstarstar - mapkstarmekstarstar) + (k5 + d5)* mekstarmosstar - \\\n",
    "    a5*mekstar*mosstar\n",
    "      \n",
    "    dmosstare2 = a2*mosstar*(e2tot - mosstare2) - (d2 + k2)*mosstare2\n",
    "    \n",
    "    dmek = -a3*(mektot - mekstar - mekstarstar - mekstarmekpase - \\\n",
    "    mekstarstarmekpase - mekmosstar - mekstarmosstar - mapkmekstarstar - \\\n",
    "    mapkstarmekstarstar)*mosstar + d3*mekmosstar + k4*mekstarmekpase\n",
    "     \n",
    "    dmekmosstar = a3*(mektot - mekstar - mekstarstar - mekstarmekpase - \\\n",
    "    mekstarstarmekpase - mekmosstar - mekstarmosstar - mapkmekstarstar - \\\n",
    "    mapkstarmekstarstar)*mosstar - (d3 + k3)*mekmosstar\n",
    "    \n",
    "    dmekstar = -a4*mekstar*(mekpasetot - mekstarmekpase - mekstarstarmekpase)\\\n",
    "    + d4*mekstarmekpase + k3*mekmosstar + k6*mekstarstarmekpase + \\\n",
    "    d5*mekstarmosstar - a5*mekstar*mosstar\n",
    "    \n",
    "    dmekstarmekpase = a4*mekstar*(mekpasetot - mekstarmekpase - \\\n",
    "    mekstarstarmekpase)-(d4 + k4)*mekstarmekpase \n",
    "\n",
    "    dmekstarmosstar = a5*mekstar*mosstar - (d5 + k5)*mekstarmosstar\n",
    "    \n",
    "    dmekstarstar = k5*mekstarmosstar - a6*mekstarstar*(mekpasetot - \n",
    "    mekstarmekpase - mekstarstarmekpase) + d6*mekstarstarmekpase - \\\n",
    "    a7*mekstarstar*(mapktot - mapkstar - mapkstarstar - mapkstarmapkpase - \\\n",
    "    mapkstarstarmapkpase - mapkmekstarstar - mapkstarmekstarstar) + \\\n",
    "    (d7 + k7)*mapkmekstarstar + (d9 + k9)*mapkstarmekstarstar - \\\n",
    "    a9*mapkstar*mekstarstar\n",
    "    \n",
    "    dmekstarstarmekpase = a6*mekstarstar*(mekpasetot - mekstarmekpase \\\n",
    "    - mekstarstarmekpase) - (d6 + k6)*mekstarstarmekpase\n",
    "    \n",
    "    dmapk = -a7*(mapktot - mapkstar - mapkstarstar - mapkstarmapkpase - \\\n",
    "    mapkstarstarmapkpase - mapkmekstarstar - mapkstarmekstarstar)*mekstarstar \\\n",
    "    + d7*mapkmekstarstar + k8*mapkstarmapkpase\n",
    "    \n",
    "    dmapkmekstarstar = a7*(mapktot - mapkstar - mapkstarstar \\\n",
    "    - mapkstarmapkpase - mapkstarstarmapkpase - mapkmekstarstar - mapkstarmekstarstar)*mekstarstar - (d7 + k7)*mapkmekstarstar\n",
    "    \n",
    "    dmapkstar = k7*mapkmekstarstar - a8*mapkstar*(mapkpasetot - \\\n",
    "    mapkstarmapkpase - mapkstarstarmapkpase) + d8*mapkstarmapkpase - \\\n",
    "    a9*mapkstar*mekstarstar + d9*mapkstarmekstarstar + k10*mapkstarstarmapkpase\n",
    "    \n",
    "    dmapkstarmekstarstar =a9*mapkstar*mekstarstar - (d9 + k9)*mapkstarmekstarstar\n",
    "    \n",
    "    dmapkstarstar = -a10*mapkstarstar*(mapkpasetot - mapkstarmapkpase - \\\n",
    "    mapkstarstarmapkpase) + d10*mapkstarstarmapkpase + k9*mapkstarmekstarstar \n",
    "    \n",
    "    dmapkstarmapkpase = a8*mapkstar*(mapkpasetot - mapkstarmapkpase - \n",
    "    mapkstarstarmapkpase) - (d8 + k8)*mapkstarmapkpase\n",
    "    \n",
    "    dmapkstarstarmapkpase = a10*mapkstarstar*(mapkpasetot - mapkstarmapkpase - \\\n",
    "    mapkstarstarmapkpase) - (d10 + k10)*mapkstarstarmapkpase\n",
    "     \n",
    "    return [dmos, dmose1,dmosstar,dmosstare2,dmek,dmekmosstar,dmekstar, \\\n",
    "    dmekstarmekpase, dmekstarmosstar, dmekstarstar, dmekstarstarmekpase, \\\n",
    "    dmapk, dmapkmekstarstar, dmapkstar, dmapkstarmekstarstar, dmapkstarstar, \\\n",
    "    dmapkstarmapkpase, dmapkstarstarmapkpase]\n"
   ]
  },
  {
   "cell_type": "code",
   "execution_count": 50,
   "metadata": {
    "collapsed": false
   },
   "outputs": [],
   "source": [
    "param_v  = [mostotV, e2totV, mektotV, mekpasetotV, mapktotV, mapkpasetotV, \\\n",
    "    a1V, a2V, a3V, a4V, a5V, a6V, a7V, a8V, a9V, a10V, \\\n",
    "    d1V, d2V, d3V, d4V, d5V, d6V, d7V, d8V, d9V, d10V, \\\n",
    "    k1V, k2V, k3V, k4V, k5V, k6V, k7V, k8V, k9V, k10V,WTV,e2totV,0,0]"
   ]
  },
  {
   "cell_type": "code",
   "execution_count": 51,
   "metadata": {
    "collapsed": false
   },
   "outputs": [
    {
     "name": "stdout",
     "output_type": "stream",
     "text": [
      "The initial conditions are mos(0) = mostot, mek(0) = mektot and mapk(0) = mapktot\n"
     ]
    },
    {
     "data": {
      "text/plain": [
       "18"
      ]
     },
     "execution_count": 51,
     "metadata": {},
     "output_type": "execute_result"
    }
   ],
   "source": [
    "###################################\n",
    "# INITIAL CONDTIONS\n",
    "###################################\n",
    "\n",
    "\n",
    "initialcond = np.zeros(len(var_names))\n",
    "initialcond[0] = param_v[0]\n",
    "initialcond[4] = param_v[2]\n",
    "initialcond[11] = param_v[4]\n",
    "###################################\n",
    "# time array & array to store the output for various input levels of sos\n",
    "###################################\n",
    "\n",
    "tStop = tmax\n",
    "tInc = 0.1\n",
    "t = np.arange(0., tStop, tInc)\n",
    "\n",
    "print(\"The initial conditions are {}(0) = {}, {}(0) = {} and {}(0) = {}\".format(var_names[0],params_names[0], \\\n",
    "                                                                 var_names[4],params_names[2], \\\n",
    "                                                                 var_names[11],params_names[4]))\n",
    "len(initialcond)\n",
    "\n"
   ]
  },
  {
   "cell_type": "code",
   "execution_count": 52,
   "metadata": {
    "collapsed": false
   },
   "outputs": [],
   "source": [
    "for kk in range(4):\n",
    "    parm_v[]=\n",
    "    psoln = odeint(equationsmodel, initialcond, t, args=(param_v,))\n",
    "#is steady state reached? -- store value. \n"
   ]
  },
  {
   "cell_type": "code",
   "execution_count": 62,
   "metadata": {
    "collapsed": false
   },
   "outputs": [
    {
     "data": {
      "text/plain": [
       "'mapkstarstar'"
      ]
     },
     "execution_count": 62,
     "metadata": {},
     "output_type": "execute_result"
    }
   ],
   "source": [
    "var_names[15]"
   ]
  },
  {
   "cell_type": "code",
   "execution_count": 63,
   "metadata": {
    "collapsed": false
   },
   "outputs": [
    {
     "data": {
      "image/png": "[encoded data removed]",
      "text/plain": [
       "<matplotlib.figure.Figure at 0x119772400>"
      ]
     },
     "metadata": {},
     "output_type": "display_data"
    }
   ],
   "source": [
    "plt.plot(psoln[:,15])\n",
    "plt.show()"
   ]
  },
  {
   "cell_type": "code",
   "execution_count": 70,
   "metadata": {
    "collapsed": false
   },
   "outputs": [
    {
     "data": {
      "text/plain": [
       "36"
      ]
     },
     "execution_count": 70,
     "metadata": {},
     "output_type": "execute_result"
    }
   ],
   "source": [
    "len(params_names)"
   ]
  },
  {
   "cell_type": "code",
   "execution_count": null,
   "metadata": {
    "collapsed": true
   },
   "outputs": [],
   "source": []
  }
 ],
 "metadata": {
  "anaconda-cloud": {},
  "kernelspec": {
   "display_name": "Python 3",
   "language": "python",
   "name": "python3"
  },
  "language_info": {
   "codemirror_mode": {
    "name": "ipython",
    "version": 3
   },
   "file_extension": ".py",
   "mimetype": "text/x-python",
   "name": "python",
   "nbconvert_exporter": "python",
   "pygments_lexer": "ipython3",
   "version": "3.6.0"
  }
 },
 "nbformat": 4,
 "nbformat_minor": 2
}
