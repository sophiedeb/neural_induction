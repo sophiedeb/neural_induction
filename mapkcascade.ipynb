{
 "cells": [
  {
   "cell_type": "markdown",
   "metadata": {
    "collapsed": true
   },
   "source": [
    "http://www.pnas.org/content/93/19/10078.long"
   ]
  },
  {
   "cell_type": "markdown",
   "metadata": {},
   "source": [
    "## Packages and formating"
   ]
  },
  {
   "cell_type": "markdown",
   "metadata": {},
   "source": [
    "Import packages"
   ]
  },
  {
   "cell_type": "code",
   "execution_count": 92,
   "metadata": {
    "collapsed": true
   },
   "outputs": [],
   "source": [
    "import numpy as np\n",
    "import math\n",
    "import matplotlib.pyplot as plt\n",
    "from scipy.integrate import odeint\n",
    "from scipy.interpolate import interp1d\n",
    "from matplotlib import rc"
   ]
  },
  {
   "cell_type": "markdown",
   "metadata": {},
   "source": [
    "commands and definitions for nice latex rendering"
   ]
  },
  {
   "cell_type": "code",
   "execution_count": 93,
   "metadata": {
    "collapsed": true
   },
   "outputs": [],
   "source": [
    "#for latex-rendering. (I guess with a lot of redundancy.. but it works!)\n",
    "rc('text', usetex=True) #\n",
    "plt.rcParams['text.usetex'] = True #this line turns \"ticks\" on axis into latex  (i think is it the same function as the line above. not sure. )\n",
    "plt.rcParams['text.latex.unicode'] = True \n",
    "#for the size of the exported figures\n",
    "plt.rcParams['figure.figsize'] = (24, 18)\n",
    "rc('text.latex', preamble=r'\\usepackage{cmbright}')#this line turns text in legends for instance into latex\n",
    "\n",
    "\n",
    "def round_to_n(x, n):\n",
    "    \" Round x to n significant figures \"\n",
    "    return round(x, -int(math.floor(np.sign(x) * math.log10(abs(x)))) + n)\n",
    "\n",
    "def str_fmt(x, n=2):\n",
    "    \" Format x into nice Latex rounding to n\"\n",
    "    if x<0.1:\n",
    "        if x!=.01 and x!=.001 and x!=.0001 and x!=.00001:\n",
    "            power = int(np.log10(round_to_n(x, 0)))-1\n",
    "            mypower=int(math.floor(np.sign(x) * math.log10(abs(x))))\n",
    "            f_SF = round_to_n(x, n) * pow(10, -power)\n",
    "            f_SF = math.floor(x*10**(-mypower+2))/100\n",
    "            return r\"${} \\, 10^{{ {} }}$\".format(f_SF, mypower)\n",
    "        else:\n",
    "            power = int(np.log10(round_to_n(x, 0)))\n",
    "            f_SF = round_to_n(x, n) * pow(10, -power)\n",
    "            return r\"${} \\, 10^{{ {} }}$\".format(f_SF, power)\n",
    "    elif x>99:\n",
    "        power = int(np.log10(round_to_n(x, 0)))\n",
    "        f_SF = round_to_n(x, n) * pow(10, -power)\n",
    "        return r\"${} \\, 10^{{ {} }}$\".format(f_SF, power)\n",
    "    else:\n",
    "        return r\"${}$\".format(x)\n",
    "    \n",
    "def str_fmt_round_numb(x, n=1):\n",
    "    \" Format x into nice Latex rounding to n\"\n",
    "    if x<0.1:\n",
    "        power = int(np.log10(round_to_n(x, 0)))-1\n",
    "        f_SF = round_to_n(x, n) * pow(10, -power)\n",
    "        return r\"${} \\, 10^{{ {} }}$\".format(f_SF, power)\n",
    "    elif x>99:\n",
    "        power = int(np.log10(round_to_n(x, 0)))\n",
    "        f_SF = round_to_n(x, n) * pow(10, -power)\n",
    "        return r\"${} \\, 10^{{ {} }}$\".format(f_SF, power)\n",
    "    else:\n",
    "        return r\"${}$\".format(x)\n",
    "\n",
    "def str_fmt_name_fig(x, n=2):\n",
    "    \" Format x into nice text - rounding to n\"\n",
    "    if x<0.1:\n",
    "        if x!=.01 and x!=.001 and x!=.0001 and x!=.00001:\n",
    "            power = int(np.log10(round_to_n(x, 0)))-1\n",
    "            mypower=int(math.floor(np.sign(x) * math.log10(abs(x))))\n",
    "            f_SF = round_to_n(x, n) * pow(10, -power)\n",
    "            f_SF = math.floor(x*10**(-mypower+2))/100\n",
    "            return r\"{}*10({})\".format(f_SF, mypower)\n",
    "        else:\n",
    "            power = int(np.log10(round_to_n(x, 0)))\n",
    "            f_SF = round_to_n(x, n) * pow(10, -power)\n",
    "            return r\"{}*10^({ })\".format(f_SF, power)\n",
    "    elif x>99:\n",
    "        power = int(np.log10(round_to_n(x, 0)))\n",
    "        f_SF = round_to_n(x, n) * pow(10, -power)\n",
    "        return r\"{}*10^({ })\".format(f_SF, power)\n",
    "    else:\n",
    "        return r\"{}$\".format(x)\n",
    "    \n"
   ]
  },
  {
   "cell_type": "markdown",
   "metadata": {},
   "source": [
    "## Endode equations of the model and a set of default parameters"
   ]
  },
  {
   "cell_type": "markdown",
   "metadata": {},
   "source": [
    "Choose values for parameters"
   ]
  },
  {
   "cell_type": "code",
   "execution_count": 94,
   "metadata": {
    "collapsed": true
   },
   "outputs": [],
   "source": [
    "scale = 1\n",
    "\n",
    "tmax = 30        #solve the system of ODEs from t=0 to tmax (about 30 min for the cell to divide)\n",
    "tmaxLONG = 1000  #what would be the steady state? (look at longer times)\n",
    " \n",
    "\n",
    "\n",
    "WTV = 0.0023*scale  #not used in the code - small to have a small input in the cascade, cf Ferrell.. *)\n",
    "rasgapV = .0002*scale # not used \n",
    "\n",
    "k11V = 1 #(* randomly chosen *)\n",
    "k12V = 1\n",
    "\n",
    "d11V = 1 #(* randomly chosen *)\n",
    "d12V = 1 #(* randomly chosen *)\n",
    "a11V = 10000/scale #(* randomly chosen *)\n",
    "a12V = 10000/scale #(* randomly chosen *)\n",
    "nn = 10\n",
    "\n",
    "mostotV = .003*scale\n",
    "mektotV = 1.2*scale #(*1.2*)\n",
    "mekpasetotV = .0003*scale\n",
    "mapktotV = 1.2*scale\n",
    "mapkpasetotV = .12*scale\n",
    "e2totV = 0.0003*scale\n",
    "\n",
    "\n",
    "a1V = 1000/scale\n",
    "a2V = 1000/scale\n",
    "a3V = 1000/scale #(* for crossing 10 *)\n",
    "a4V = 1000/scale #(* for crossing 500 *)\n",
    "a5V = 1000/scale\n",
    "a6V = 1000/scale\n",
    "a7V = 1000/scale\n",
    "a8V = 1000/scale\n",
    "a9V = 1000/scale\n",
    "a10V = 1000/scale\n",
    "\n",
    "\n",
    "d1V = 150 #(* for crossing 15 *)\n",
    "d2V = 150\n",
    "d3V = 150\n",
    "d4V = 150\n",
    "d5V = 150\n",
    "d6V = 150\n",
    "d7V = 150\n",
    "d8V = 150\n",
    "d9V = 150\n",
    "d10V = 150\n",
    "\n",
    "\n",
    "k1V = 150\n",
    "k2V = 150\n",
    "k3V = 150\n",
    "k4V = 150\n",
    "k5V = 150\n",
    "k6V = 150\n",
    "k7V = 150\n",
    "k8V = 150\n",
    "k9V = 150\n",
    "k10V = 150\n",
    "\n",
    "rasgtp_inputV=1*scale"
   ]
  },
  {
   "cell_type": "markdown",
   "metadata": {},
   "source": [
    "Encode equations of the model"
   ]
  },
  {
   "cell_type": "code",
   "execution_count": 95,
   "metadata": {
    "collapsed": true
   },
   "outputs": [],
   "source": [
    "var_names = 'mos', 'mose1', 'mosstar', 'mosstare2', 'mek', 'mekmosstar', 'mekstar', 'mekstarmekpase', 'mekstarmosstar', \\\n",
    "    'mekstarstar', 'mekstarstarmekpase', 'mapk', 'mapkmekstarstar', 'mapkstar', \\\n",
    "    'mapkstarmekstarstar', 'mapkstarstar', 'mapkstarmapkpase', \\\n",
    "    'mapkstarstarmapkpase'\n",
    "    \n",
    "params_names = 'mostot', 'e2tot', 'mektot', 'mekpasetot', 'mapktot', 'mapkpasetot', \\\n",
    "    'a1', 'a2', 'a3', 'a4', 'a5', 'a6', 'a7', 'a8', 'a9', 'a10', \\\n",
    "    'd1', 'd2', 'd3', 'd4', 'd5', 'd6', 'd7', 'd8', 'd9', 'd10', \\\n",
    "    'k1', 'k2', 'k3', 'k4', 'k5', 'k6', 'k7', 'k8', 'k9', 'k10','WT', 'rasgdp', 'WE1', 'WsE2','rasgtp_input'\n",
    "\n",
    "def equationsmodel(var, t, params):\n",
    "    \n",
    "    mos, mose1, mosstar, mosstare2, mek, mekmosstar, mekstar, mekstarmekpase, mekstarmosstar,\\\n",
    "    mekstarstar,mekstarstarmekpase, mapk, mapkmekstarstar, mapkstar, \\\n",
    "    mapkstarmekstarstar, mapkstarstar, mapkstarmapkpase, \\\n",
    "    mapkstarstarmapkpase = var\n",
    "    \n",
    "    mostot, e2tot, mektot, mekpasetot, mapktot, mapkpasetot, \\\n",
    "    a1, a2, a3, a4, a5, a6, a7, a8, a9, a10, \\\n",
    "    d1, d2, d3, d4, d5, d6, d7, d8, d9, d10, \\\n",
    "    k1, k2, k3, k4, k5, k6, k7, k8, k9, k10, WT, rasgdp, WE1, WsE2, rasgtp_input = params\n",
    "    \n",
    "    dmos = -a1*(mostot - mosstar - mose1 - mosstare2 - mekmosstar - \\\n",
    "    mekstarmosstar)*(rasgtp_input - mose1) + d1*mose1 +\\\n",
    "    k2*mosstare2\n",
    "    \n",
    "    dmose1 = a1*(mostot - mosstar - mose1 - mosstare2 - mekmosstar - \\\n",
    "    mekstarmosstar)*(rasgtp_input - mose1) -(d1+k1)*mose1\n",
    "    \n",
    "    dmosstar = -a2*mosstar*(e2tot - mosstare2) + d2*mosstare2 + k1*mose1 + \\\n",
    "    (k3 + d3)*mekmosstar -  a3*mosstar*(mektot - mekstar - mekstarstar - \\\n",
    "    mekstarmekpase - mekstarstarmekpase - mekmosstar - mekstarmosstar - \\\n",
    "    mapkmekstarstar - mapkstarmekstarstar) + (k5 + d5)* mekstarmosstar - \\\n",
    "    a5*mekstar*mosstar\n",
    "      \n",
    "    dmosstare2 = a2*mosstar*(e2tot - mosstare2) - (d2 + k2)*mosstare2\n",
    "    \n",
    "    dmek = -a3*(mektot - mekstar - mekstarstar - mekstarmekpase - \\\n",
    "    mekstarstarmekpase - mekmosstar - mekstarmosstar - mapkmekstarstar - \\\n",
    "    mapkstarmekstarstar)*mosstar + d3*mekmosstar + k4*mekstarmekpase\n",
    "     \n",
    "    dmekmosstar = a3*(mektot - mekstar - mekstarstar - mekstarmekpase - \\\n",
    "    mekstarstarmekpase - mekmosstar - mekstarmosstar - mapkmekstarstar - \\\n",
    "    mapkstarmekstarstar)*mosstar - (d3 + k3)*mekmosstar\n",
    "    \n",
    "    dmekstar = -a4*mekstar*(mekpasetot - mekstarmekpase - mekstarstarmekpase)\\\n",
    "    + d4*mekstarmekpase + k3*mekmosstar + k6*mekstarstarmekpase + \\\n",
    "    d5*mekstarmosstar - a5*mekstar*mosstar\n",
    "    \n",
    "    dmekstarmekpase = a4*mekstar*(mekpasetot - mekstarmekpase - \\\n",
    "    mekstarstarmekpase)-(d4 + k4)*mekstarmekpase \n",
    "\n",
    "    dmekstarmosstar = a5*mekstar*mosstar - (d5 + k5)*mekstarmosstar\n",
    "    \n",
    "    dmekstarstar = k5*mekstarmosstar - a6*mekstarstar*(mekpasetot - \n",
    "    mekstarmekpase - mekstarstarmekpase) + d6*mekstarstarmekpase - \\\n",
    "    a7*mekstarstar*(mapktot - mapkstar - mapkstarstar - mapkstarmapkpase - \\\n",
    "    mapkstarstarmapkpase - mapkmekstarstar - mapkstarmekstarstar) + \\\n",
    "    (d7 + k7)*mapkmekstarstar + (d9 + k9)*mapkstarmekstarstar - \\\n",
    "    a9*mapkstar*mekstarstar\n",
    "    \n",
    "    dmekstarstarmekpase = a6*mekstarstar*(mekpasetot - mekstarmekpase \\\n",
    "    - mekstarstarmekpase) - (d6 + k6)*mekstarstarmekpase\n",
    "    \n",
    "    dmapk = -a7*(mapktot - mapkstar - mapkstarstar - mapkstarmapkpase - \\\n",
    "    mapkstarstarmapkpase - mapkmekstarstar - mapkstarmekstarstar)*mekstarstar \\\n",
    "    + d7*mapkmekstarstar + k8*mapkstarmapkpase\n",
    "    \n",
    "    dmapkmekstarstar = a7*(mapktot - mapkstar - mapkstarstar \\\n",
    "    - mapkstarmapkpase - mapkstarstarmapkpase - mapkmekstarstar - mapkstarmekstarstar)*mekstarstar - (d7 + k7)*mapkmekstarstar\n",
    "    \n",
    "    dmapkstar = k7*mapkmekstarstar - a8*mapkstar*(mapkpasetot - \\\n",
    "    mapkstarmapkpase - mapkstarstarmapkpase) + d8*mapkstarmapkpase - \\\n",
    "    a9*mapkstar*mekstarstar + d9*mapkstarmekstarstar + k10*mapkstarstarmapkpase\n",
    "    \n",
    "    dmapkstarmekstarstar =a9*mapkstar*mekstarstar - (d9 + k9)*mapkstarmekstarstar\n",
    "    \n",
    "    dmapkstarstar = -a10*mapkstarstar*(mapkpasetot - mapkstarmapkpase - \\\n",
    "    mapkstarstarmapkpase) + d10*mapkstarstarmapkpase + k9*mapkstarmekstarstar \n",
    "    \n",
    "    dmapkstarmapkpase = a8*mapkstar*(mapkpasetot - mapkstarmapkpase - \n",
    "    mapkstarstarmapkpase) - (d8 + k8)*mapkstarmapkpase\n",
    "    \n",
    "    dmapkstarstarmapkpase = a10*mapkstarstar*(mapkpasetot - mapkstarmapkpase - \\\n",
    "    mapkstarstarmapkpase) - (d10 + k10)*mapkstarstarmapkpase\n",
    "     \n",
    "    return [dmos, dmose1,dmosstar,dmosstare2,dmek,dmekmosstar,dmekstar, \\\n",
    "    dmekstarmekpase, dmekstarmosstar, dmekstarstar, dmekstarstarmekpase, \\\n",
    "    dmapk, dmapkmekstarstar, dmapkstar, dmapkstarmekstarstar, dmapkstarstar, \\\n",
    "    dmapkstarmapkpase, dmapkstarstarmapkpase]\n"
   ]
  },
  {
   "cell_type": "code",
   "execution_count": 96,
   "metadata": {
    "collapsed": false
   },
   "outputs": [],
   "source": [
    "param_v  = [mostotV, e2totV, mektotV, mekpasetotV, mapktotV, mapkpasetotV, \\\n",
    "    a1V, a2V, a3V, a4V, a5V, a6V, a7V, a8V, a9V, a10V, \\\n",
    "    d1V, d2V, d3V, d4V, d5V, d6V, d7V, d8V, d9V, d10V, \\\n",
    "    k1V, k2V, k3V, k4V, k5V, k6V, k7V, k8V, k9V, k10V,WTV,e2totV,0,0,rasgtp_inputV]"
   ]
  },
  {
   "cell_type": "code",
   "execution_count": 97,
   "metadata": {
    "collapsed": false
   },
   "outputs": [
    {
     "name": "stdout",
     "output_type": "stream",
     "text": [
      "['mostot' 'e2tot' 'mektot' 'mekpasetot' 'mapktot' 'mapkpasetot' 'a1' 'a2'\n",
      " 'a3' 'a4' 'a5' 'a6' 'a7' 'a8' 'a9' 'a10' 'd1' 'd2' 'd3' 'd4' 'd5' 'd6'\n",
      " 'd7' 'd8' 'd9' 'd10' 'k1' 'k2' 'k3' 'k4' 'k5' 'k6' 'k7' 'k8' 'k9' 'k10'\n",
      " 'WT' 'rasgdp' 'WE1' 'WsE2' 'rasgtp_input'] [0.003, 0.0003, 1.2, 0.0003, 1.2, 0.12, 1000.0, 1000.0, 1000.0, 1000.0, 1000.0, 1000.0, 1000.0, 1000.0, 1000.0, 1000.0, 150, 150, 150, 150, 150, 150, 150, 150, 150, 150, 150, 150, 150, 150, 150, 150, 150, 150, 150, 150, 0.0023, 0.0003, 0, 0, 1]\n",
      "rasgdp\n"
     ]
    }
   ],
   "source": [
    "print(np.asarray(params_names),param_v)\n",
    "print(params_names[37])"
   ]
  },
  {
   "cell_type": "code",
   "execution_count": 98,
   "metadata": {
    "collapsed": false
   },
   "outputs": [
    {
     "name": "stdout",
     "output_type": "stream",
     "text": [
      "The initial conditions are mos(0) = mostot, mek(0) = mektot and mapk(0) = mapktot\n"
     ]
    },
    {
     "data": {
      "text/plain": [
       "18"
      ]
     },
     "execution_count": 98,
     "metadata": {},
     "output_type": "execute_result"
    }
   ],
   "source": [
    "###################################\n",
    "# INITIAL CONDTIONS\n",
    "###################################\n",
    "\n",
    "initialcond = np.zeros(len(var_names))\n",
    "initialcond[0] = param_v[0]\n",
    "initialcond[4] = param_v[2]\n",
    "initialcond[11] = param_v[4]\n",
    "###################################\n",
    "# time array & array to store the output for various input levels of sos\n",
    "###################################\n",
    "\n",
    "tStop = tmax\n",
    "tInc = 0.01\n",
    "t = np.arange(0., tStop, tInc)\n",
    "\n",
    "print(\"The initial conditions are {}(0) = {}, {}(0) = {} and {}(0) = {}\".format(var_names[0],params_names[0], \\\n",
    "                                                                 var_names[4],params_names[2], \\\n",
    "                                                                 var_names[11],params_names[4]))\n",
    "len(initialcond)\n",
    "\n"
   ]
  },
  {
   "cell_type": "markdown",
   "metadata": {},
   "source": [
    "## Loop over input, solve equations, and store value reached by the output "
   ]
  },
  {
   "cell_type": "markdown",
   "metadata": {},
   "source": [
    "We have a system with one input (the concentration of rasdtp which is not directly a parameter of our model, it is computed from the value of rasgdp...). We take $maxn$ different input values and plot only 5 solutions. "
   ]
  },
  {
   "cell_type": "code",
   "execution_count": 116,
   "metadata": {
    "collapsed": false
   },
   "outputs": [
    {
     "name": "stdout",
     "output_type": "stream",
     "text": [
      "mapktot 1.2\n"
     ]
    }
   ],
   "source": [
    "maxn = 100\n",
    "inputlist=np.logspace(-10, 1, num=maxn)*scale\n",
    "maxplots=5;\n",
    "selectedinput=range(1,maxn,divmod(maxn,maxplots)[0])#we plot only n=maxplots plots \n",
    "storeoutput=[]\n",
    "print(params_names[4],param_v[4])"
   ]
  },
  {
   "cell_type": "code",
   "execution_count": 119,
   "metadata": {
    "collapsed": false
   },
   "outputs": [
    {
     "data": {
      "image/png": "[encoded data removed]",
      "text/plain": [
       "<matplotlib.figure.Figure at 0x10f8fcbe0>"
      ]
     },
     "metadata": {},
     "output_type": "display_data"
    }
   ],
   "source": [
    "#to number plots    np.arange(1,math.floor(len(range(0,maxn,divmod(maxn,10)[0])))+1)\n",
    "\n",
    "fig=plt.figure()\n",
    "plotnumber=0\n",
    "output=np.zeros(len(inputlist))\n",
    "\n",
    "for kk in range(len(inputlist)):\n",
    "    #value of input:\n",
    "    param_v[40]=inputlist[kk]\n",
    "    #actually solving the equations:\n",
    "    psoln = odeint(equationsmodel, initialcond, t, args=(param_v,))\n",
    "    output[kk]=psoln[len(t)-1,15]\n",
    "    if kk in selectedinput:\n",
    "        plotnumber=plotnumber+1\n",
    "        plt.subplot(math.floor(len(selectedinput)/2)+1,2,plotnumber)\n",
    "        plt.plot(psoln[:,15],label=r\"$ \\textnormal{mapk \\star \\star}$\")\n",
    "        #plot max value of mapk star star\n",
    "        plt.plot(np.ones(len(t))*param_v[4],label=r\" \\textnormal{Mapk max}\")\n",
    "        plt.legend()\n",
    "        plt.title(r'Temporal evolution of Mapk $\\star \\star$ for input value = {}'.format(str_fmt(param_v[37],n=2)))\n",
    "        plt.yticks([0, param_v[4]/4, param_v[4]/2, 3*param_v[4]/4, param_v[4]],\n",
    "        ['$0$', r'{}'.format(str_fmt(param_v[4]/4)), r'{}'.format(str_fmt(param_v[4]/2)),r'{}'.format(str_fmt_round_numb(round_to_n(3*param_v[4]/4,2))), r'{}'.format(str_fmt(param_v[4]))])\n",
    "\n",
    "ax=plt.subplot(math.floor(len(selectedinput)/2)+1,2,plotnumber+1)\n",
    "plt.plot(inputlist,output)\n",
    "ax.set_xscale('log')\n",
    "plt.show()\n"
   ]
  },
  {
   "cell_type": "code",
   "execution_count": null,
   "metadata": {
    "collapsed": true
   },
   "outputs": [],
   "source": [
    "def hillcoef(input,output,equationsmodel,initialcond, t,param_v):\n",
    "    \"compute Hill coef\"\n",
    "    output=storeerk\n",
    "    input1=sostotlist[1:]\n",
    "    maxoutput=max(output)\n",
    "    #\n",
    "    approxloc09=np.abs(output-.9*maxoutput).argmin()#position in the array of approximate location\n",
    "    input09=np.linspace(input1[approxloc09-2],input1[approxloc09+2],100)#generate more output points near that approximate location \n",
    "    output09=[-1]#initiate the local output array\n",
    "    #\n",
    "    #\n",
    "    for i in range(0,len(input09)):\n",
    "        psoln = odeint(equationsswitch, initialcond, t, args=([WTV, a11V, a12V, d11V, d12V, k11V, k12V, rasgapV,input09[i]],))\n",
    "        rasgtp=WTV-(psoln[:,0]+psoln[:,1]+psoln[:,2])\n",
    "        output09=np.append(output09,[rasgtp[(len(rasgtp)-1)]])\n",
    "    # \n",
    "    output09=output09[1:]\n",
    "    inversef=interp1d(output09,input09)\n",
    "    loc09=inversef(.9*maxoutput)\n",
    "    #\n",
    "    #\n",
    "    approxloc01=np.abs(output-.1*maxoutput).argmin()#position in the array of approximate location\n",
    "    input01=np.linspace(input1[approxloc01-2],input1[approxloc01+2],100)#generate more output points near that approximate location \n",
    "    output01=[-1]\n",
    "    #\n",
    "    #\n",
    "    for i in range(0,len(input01)):\n",
    "        psoln = odeint(equationsswitch, initialcond, t, args=([WTV, a11V, a12V, d11V, d12V, k11V, k12V, rasgapV,input01[i]],))\n",
    "        rasgtp=WTV-(psoln[:,0]+psoln[:,1]+psoln[:,2])\n",
    "        output01=np.append(output01,[rasgtp[(len(rasgtp)-1)]])\n",
    "    # \n",
    "    output01=output01[1:]\n",
    "    inversef=interp1d(output01,input01)\n",
    "    loc01=inversef(.1*maxoutput)\n",
    "    #\n",
    "    hillcoef=math.log(81)/math.log(loc09/loc01)\n",
    "    hillcoeferk=np.append(hillcoeferk,hillcoef)\n"
   ]
  }
 ],
 "metadata": {
  "anaconda-cloud": {},
  "kernelspec": {
   "display_name": "Python 3",
   "language": "python",
   "name": "python3"
  },
  "language_info": {
   "codemirror_mode": {
    "name": "ipython",
    "version": 3
   },
   "file_extension": ".py",
   "mimetype": "text/x-python",
   "name": "python",
   "nbconvert_exporter": "python",
   "pygments_lexer": "ipython3",
   "version": "3.6.0"
  }
 },
 "nbformat": 4,
 "nbformat_minor": 2
}
