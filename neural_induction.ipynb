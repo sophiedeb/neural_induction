{
 "cells": [
  {
   "cell_type": "code",
   "execution_count": 1,
   "metadata": {
    "collapsed": true
   },
   "outputs": [],
   "source": [
    "import numpy as np\n",
    "import math\n",
    "import matplotlib.pyplot as plt\n",
    "from scipy.integrate import odeint\n",
    "from scipy.interpolate import interp1d\n",
    "from matplotlib import rc\n",
    "\n",
    "#for latex-rendering. (I guess with a lot of redundancy.. but it works!)\n",
    "rc('text', usetex=True) #\n",
    "plt.rcParams['text.usetex'] = True #this line turns \"ticks\" on axis into latex  (i think is it the same function as the line above. not sure. )\n",
    "plt.rcParams['text.latex.unicode'] = True \n",
    "#for the size of the exported figures\n",
    "plt.rcParams['figure.figsize'] = (24, 18)\n",
    "rc('text.latex', preamble=r'\\usepackage{cmbright}')#this line turns text in legends for instance into latex"
   ]
  },
  {
   "cell_type": "markdown",
   "metadata": {},
   "source": [
    "These definitions will be use to have compact format for the \"ticks\" on plots."
   ]
  },
  {
   "cell_type": "code",
   "execution_count": 2,
   "metadata": {
    "collapsed": true
   },
   "outputs": [],
   "source": [
    "def round_to_n(x, n):\n",
    "    \" Round x to n significant figures \"\n",
    "    return round(x, -int(math.floor(np.sign(x) * math.log10(abs(x)))) + n)\n",
    "\n",
    "def str_fmt(x, n=2):\n",
    "    \" Format x into nice Latex rounding to n\"\n",
    "    if x<0.1:\n",
    "        if x!=.01 and x!=.001 and x!=.0001 and x!=.00001:\n",
    "            power = int(np.log10(round_to_n(x, 0)))-1\n",
    "            mypower=int(math.floor(np.sign(x) * math.log10(abs(x))))\n",
    "            f_SF = round_to_n(x, n) * pow(10, -power)\n",
    "            f_SF = math.floor(x*10**(-mypower+2))/100\n",
    "            return r\"${} \\, 10^{{ {} }}$\".format(f_SF, mypower)\n",
    "        else:\n",
    "            power = int(np.log10(round_to_n(x, 0)))\n",
    "            f_SF = round_to_n(x, n) * pow(10, -power)\n",
    "            return r\"${} \\, 10^{{ {} }}$\".format(f_SF, power)\n",
    "    elif x>99:\n",
    "        power = int(np.log10(round_to_n(x, 0)))\n",
    "        f_SF = round_to_n(x, n) * pow(10, -power)\n",
    "        return r\"${} \\, 10^{{ {} }}$\".format(f_SF, power)\n",
    "    else:\n",
    "        return r\"${}$\".format(x)\n",
    "    \n",
    "def str_fmt_round_numb(x, n=1):\n",
    "    \" Format x into nice Latex rounding to n\"\n",
    "    if x<0.1:\n",
    "        power = int(np.log10(round_to_n(x, 0)))-1\n",
    "        f_SF = round_to_n(x, n) * pow(10, -power)\n",
    "        return r\"${} \\, 10^{{ {} }}$\".format(f_SF, power)\n",
    "    elif x>99:\n",
    "        power = int(np.log10(round_to_n(x, 0)))\n",
    "        f_SF = round_to_n(x, n) * pow(10, -power)\n",
    "        return r\"${} \\, 10^{{ {} }}$\".format(f_SF, power)\n",
    "    else:\n",
    "        return r\"${}$\".format(x)\n",
    "\n",
    "def str_fmt_name_fig(x, n=2):\n",
    "    \" Format x into nice text - rounding to n\"\n",
    "    if x<0.1:\n",
    "        if x!=.01 and x!=.001 and x!=.0001 and x!=.00001:\n",
    "            power = int(np.log10(round_to_n(x, 0)))-1\n",
    "            mypower=int(math.floor(np.sign(x) * math.log10(abs(x))))\n",
    "            f_SF = round_to_n(x, n) * pow(10, -power)\n",
    "            f_SF = math.floor(x*10**(-mypower+2))/100\n",
    "            return r\"{}*10({})\".format(f_SF, mypower)\n",
    "        else:\n",
    "            power = int(np.log10(round_to_n(x, 0)))\n",
    "            f_SF = round_to_n(x, n) * pow(10, -power)\n",
    "            return r\"{}*10^({ })\".format(f_SF, power)\n",
    "    elif x>99:\n",
    "        power = int(np.log10(round_to_n(x, 0)))\n",
    "        f_SF = round_to_n(x, n) * pow(10, -power)\n",
    "        return r\"{}*10^({ })\".format(f_SF, power)\n",
    "    else:\n",
    "        return r\"{}$\".format(x)\n",
    "    \n"
   ]
  },
  {
   "cell_type": "markdown",
   "metadata": {},
   "source": [
    "Example of hill coefficient computation (when we know the answer!)"
   ]
  },
  {
   "cell_type": "code",
   "execution_count": 3,
   "metadata": {
    "collapsed": false
   },
   "outputs": [],
   "source": [
    "n=30#hill coef\n",
    "input=np.logspace(-10, 1, 50)\n",
    "output=input**n/(1+input**n)\n",
    "\n",
    "\n",
    "\n",
    "maxoutput=max(output)\n",
    "\n",
    "approxloc09=np.abs(output-.9*maxoutput).argmin()#position in the array of approximate location\n",
    "input09=np.linspace(input[approxloc09-1],input[approxloc09+1],100)#generate more output points near that approximate location \n",
    "output09=input09**n/(1+input09**n)\n",
    "inversef=interp1d(output09,input09)\n",
    "loc09=inversef(.9*maxoutput)\n",
    "\n",
    "approxloc01=np.abs(output-.1*maxoutput).argmin()#position in the array of approximate location\n",
    "input01=np.linspace(input[approxloc01-1],input[approxloc01+1],100)#generate more output points near that approximate location \n",
    "output01=input01**n/(1+input01**n)\n",
    "inversef=interp1d(output01,input01)\n",
    "loc01=inversef(.1*maxoutput)\n",
    "    \n",
    "hillcoef = math.log(81)/math.log(loc09/loc01)\n"
   ]
  },
  {
   "cell_type": "markdown",
   "metadata": {},
   "source": [
    "## Covalent modification cycle switch\n",
    "\n",
    "https://www.ncbi.nlm.nih.gov/pmc/articles/PMC349147/pdf/pnas00662-0302.pdf"
   ]
  },
  {
   "cell_type": "markdown",
   "metadata": {},
   "source": [
    "We start by choosing parameters and defining equations"
   ]
  },
  {
   "cell_type": "code",
   "execution_count": 4,
   "metadata": {
    "collapsed": true
   },
   "outputs": [],
   "source": [
    "###################################\n",
    "# PARAMETERS\n",
    "###################################\n",
    "\n",
    "scale = 1#to be able to change units if needed\n",
    "\n",
    "# Input of the pathway: FGF signaling via SOS : \n",
    "maxn = 100; #number of points \n",
    "sostotlist=np.logspace(-10, 1, num=maxn)*scale #logarithmic ploting\n",
    "maxplots=5;\n",
    "selectedsos=range(1,maxn,divmod(maxn,maxplots)[0])#we plot only n=maxplots plots \n",
    "\n",
    "\n",
    "#Output of the pathway: we look at the output of the system after t=tmax\n",
    "tmax = 100\n",
    "tmaxLONG = 100\n",
    " \n",
    "\n",
    "#(* mean value for the parameters *)\n",
    "WTV = 0.0023*scale\n",
    "#(* small to have a small input in the cascade, cf Ferrell.. *)\n",
    "rasgapV = .0002*scale\n",
    "#(* we vary this paremeter in the code, so this value is not used *)\n",
    "k11V = 1 #(* randomly chosen *)\n",
    "k12V = 1\n",
    "d11V = 1 #* randomly chosen *)\n",
    "d12V = 1 #(* randomly chosen *)\n",
    "a11V = 10000/scale #(* randomly chosen *)\n",
    "a12V = 10000/scale #(* randomly chosen *)\n",
    "\n",
    "\n",
    "###################################\n",
    "# EQUATIONS\n",
    "###################################\n",
    "\n",
    "def equationsswitch(var,t,params):\n",
    "    \n",
    "    rasgdp, WE1, WsE2 = var\n",
    "    WT, a11, a12, d11, d12, k11, k12, rasgap, sostot = params\n",
    "    \n",
    "     \n",
    "    drasgdp = -a11*rasgdp*(sostot - WE1) + d11*WE1 + k12*WsE2\n",
    "    dWE1 = a11*rasgdp*(sostot - WE1) - (d11 + k11)*WE1\n",
    "    dWsE2 = a12*(WT - rasgdp - WE1 - WsE2)*(rasgap - WsE2) - (d12+k12)*WsE2\n",
    "     \n",
    "    return [drasgdp, dWE1, dWsE2]\n",
    "    \n",
    "###################################\n",
    "# ZOO CONDITIONS?\n",
    "###################################\n",
    "\n",
    "sostotlist[maxn-1]/WTV<10**(-1)\n",
    "rasgapV/WTV<10**(-1)\n",
    "(k11V+d11V)/a11V/WTV<10**(-1)\n",
    "(k12V+d12V)/a12V/WTV<10**(-1)\n",
    "    \n",
    "###################################\n",
    "# INITIAL CONDTIONS\n",
    "###################################\n",
    "    \n",
    "initialcond = [WTV,0,0]\n",
    "    \n",
    "###################################\n",
    "# time array & array to store the output for various input levels of sos\n",
    "###################################\n",
    "\n",
    "tStop = tmax\n",
    "tInc = 0.1\n",
    "t = np.arange(0., tStop, tInc)\n",
    "\n"
   ]
  },
  {
   "cell_type": "markdown",
   "metadata": {},
   "source": [
    "Then we look over sos (fgf) input values at fixed ephrin value + compute the corresponding Hill coefficient"
   ]
  },
  {
   "cell_type": "code",
   "execution_count": 5,
   "metadata": {
    "collapsed": false
   },
   "outputs": [],
   "source": [
    "###################################\n",
    "# solve equations for various sos values (ephrin signaling)\n",
    "###################################\n",
    "\n",
    "\n",
    "max_erk_values = 10; #number of points \n",
    "erktotlist=np.logspace(-10, 1, num=max_erk_values)*scale #logarithmic ploting\n",
    "hillcoeferk=[-1]\n",
    "\n",
    "for kk in range(len(erktotlist)):\n",
    "    rasgapV=erktotlist[kk]\n",
    "    fig=plt.figure()\n",
    "    storeerk=[-1]\n",
    "\n",
    "    #to number plots    np.arange(1,math.floor(len(range(0,maxn,divmod(maxn,10)[0])))+1)\n",
    "    plotnumber=0\n",
    "    for i in range(1,maxn):\n",
    "\n",
    "        psoln = odeint(equationsswitch, initialcond, t, args=([WTV, a11V, a12V, d11V, d12V, k11V, k12V, rasgapV,sostotlist[i]],))\n",
    "        rasgtp=WTV-(psoln[:,0]+psoln[:,1]+psoln[:,2])\n",
    "\n",
    "        ###################################\n",
    "        # plot time series & output/input function\n",
    "        ###################################\n",
    "        if i in selectedsos:\n",
    "             plotnumber=plotnumber+1\n",
    "\n",
    "             plt.subplot(math.floor(len(selectedsos)/2)+1,2,plotnumber)\n",
    "             plt.rc('text', usetex = True)\n",
    "             plt.plot(rasgtp,label=r\"$ \\textnormal{rasgtp}$\")\n",
    "             plt.plot(np.ones(len(t))*WTV,label=r\" \\textnormal{Ras max}\")\n",
    "             plt.legend()\n",
    "             plt.title(r'Temporal evolution of Ras-GTP for sos = {}'.format(str_fmt(sostotlist[i],n=2)))\n",
    "             plt.yticks([0, WTV/4, WTV/2, 3*WTV/4, WTV],\n",
    "               ['$0$', r'{}'.format(str_fmt(WTV/4)), r'{}'.format(str_fmt(WTV/2)), r'{}'.format(str_fmt(3*WTV/4)), r'{}'.format(str_fmt(WTV))])\n",
    "\n",
    "         #is steady state reached?\n",
    "        if (rasgtp[(len(rasgtp)-1)]-rasgtp[int(math.floor(.9*(len(rasgtp)-1)))])/WTV<10**(-3)==False:\n",
    "                print(\"steady state not reached\")\n",
    "        # if yes, keep rasgtp level reached at ss\n",
    "        storeerk=np.append(storeerk,[rasgtp[(len(rasgtp)-1)]])\n",
    "        #end on the loop over sos values. \n",
    "\n",
    "\n",
    "\n",
    "    #remove first element of storeerk (it has no meaning)\n",
    "    storeerk=storeerk[1:] \n",
    "    ymaxtick=round_to_n(max(storeerk),0)\n",
    "    # !!! if you want to try to extrapolate add next line !!!!\n",
    "    #f=interp1d(range(1,maxn),storeerk,kind='cubic')\n",
    "\n",
    "\n",
    "\n",
    "    ###################################\n",
    "    # compute hill coefficient \n",
    "    ###################################\n",
    "    #\n",
    "    output=storeerk\n",
    "    input1=sostotlist[1:]\n",
    "    maxoutput=max(output)\n",
    "    #\n",
    "    approxloc09=np.abs(output-.9*maxoutput).argmin()#position in the array of approximate location\n",
    "    input09=np.linspace(input1[approxloc09-2],input1[approxloc09+2],100)#generate more output points near that approximate location \n",
    "    output09=[-1]#initiate the local output array\n",
    "    #\n",
    "    #\n",
    "    for i in range(0,len(input09)):\n",
    "        psoln = odeint(equationsswitch, initialcond, t, args=([WTV, a11V, a12V, d11V, d12V, k11V, k12V, rasgapV,input09[i]],))\n",
    "        rasgtp=WTV-(psoln[:,0]+psoln[:,1]+psoln[:,2])\n",
    "        output09=np.append(output09,[rasgtp[(len(rasgtp)-1)]])\n",
    "    # \n",
    "    output09=output09[1:]\n",
    "    inversef=interp1d(output09,input09)\n",
    "    loc09=inversef(.9*maxoutput)\n",
    "    #\n",
    "    #\n",
    "    approxloc01=np.abs(output-.1*maxoutput).argmin()#position in the array of approximate location\n",
    "    input01=np.linspace(input1[approxloc01-2],input1[approxloc01+2],100)#generate more output points near that approximate location \n",
    "    output01=[-1]\n",
    "    #\n",
    "    #\n",
    "    for i in range(0,len(input01)):\n",
    "        psoln = odeint(equationsswitch, initialcond, t, args=([WTV, a11V, a12V, d11V, d12V, k11V, k12V, rasgapV,input01[i]],))\n",
    "        rasgtp=WTV-(psoln[:,0]+psoln[:,1]+psoln[:,2])\n",
    "        output01=np.append(output01,[rasgtp[(len(rasgtp)-1)]])\n",
    "    # \n",
    "    output01=output01[1:]\n",
    "    inversef=interp1d(output01,input01)\n",
    "    loc01=inversef(.1*maxoutput)\n",
    "    #\n",
    "    hillcoef=math.log(81)/math.log(loc09/loc01)\n",
    "    hillcoeferk=np.append(hillcoeferk,hillcoef)\n",
    "\n",
    "    ###################################\n",
    "    # add plot input/out \n",
    "    ###################################\n",
    "\n",
    "\n",
    "    plt.subplot(math.floor(len(selectedsos)/2)+1,2,plotnumber+1)\n",
    "    plt.plot(range(1,maxn),storeerk,label=r\"output/input1\")#,label=\"computed points\"\n",
    "    plt.legend(loc=4)\n",
    "    plt.yticks([0, ymaxtick/4, ymaxtick/2, 3*ymaxtick/4, ymaxtick],\n",
    "               ['$0$', r'{}'.format(str_fmt(ymaxtick/4)), r'{}'.format(str_fmt(ymaxtick/2)), r'{}'.format(str_fmt(3*ymaxtick/4)), r'{}'.format(str_fmt(ymaxtick))])\n",
    "    plt.ylabel('output')\n",
    "    plt.xlabel('input')\n",
    "    plt.text(0,3*ymaxtick/4, r'Hill coefficient = {}'.format(round_to_n(hillcoef,2)), style='italic',\n",
    "        bbox={'facecolor':'lightblue', 'alpha':0.5, 'pad':10})\n",
    "    #plt.text(10,ymaxtick/4,r'Hill coef = {}'.format(hillcoef)))\n",
    "    # !!! if you did an extrapolation and want to plot it add next 2 lines!!!!\n",
    "    #plt.plot(selectedsos,f(selectedsos),label=\"extrapolation\")\n",
    "    #plt.legend()\n",
    "\n",
    "    fig.savefig(r'full_figure_erk_{}.pdf'.format(str_fmt_name_fig(rasgapV)))      \n",
    "    plt.close(fig)\n",
    "\n",
    "hillcoeferk=hillcoeferk[1:]\n",
    "\n",
    "fig=plt.figure()\n",
    "plt.plot(erktotlist,hillcoeferk,label=r\"output/input1\")#,label=\"computed points\"\n",
    "#plt.legend(loc=4)\n",
    "#plt.yticks([0, ymaxtick/4, ymaxtick/2, 3*ymaxtick/4, ymaxtick],\n",
    "#          ['$0$', r'{}'.format(str_fmt(ymaxtick/4)), r'{}'.format(str_fmt(ymaxtick/2)), r'{}'.format(str_fmt(3*ymaxtick/4)), r'{}'.format(str_fmt(ymaxtick))])\n",
    "plt.ylabel('hill coef')\n",
    "plt.xlabel('erk')\n",
    "plt.xscale('log')\n",
    "#plt.text(10,ymaxtick/4,r'Hill coef = {}'.format(hillcoef)))\n",
    "# !!! if you did an extrapolation and want to plot it add next 2 lines!!!!\n",
    "#plt.plot(selectedsos,f(selectedsos),label=\"extrapolation\")\n",
    "#plt.legend()\n",
    "\n",
    "fig.savefig(r'hillcoef_erk.pdf')      \n",
    "plt.close(fig)"
   ]
  },
  {
   "cell_type": "code",
   "execution_count": 16,
   "metadata": {
    "collapsed": false
   },
   "outputs": [
    {
     "data": {
      "text/plain": [
       "1.9"
      ]
     },
     "execution_count": 16,
     "metadata": {},
     "output_type": "execute_result"
    }
   ],
   "source": [
    "round_to_n(hillcoef,2)"
   ]
  },
  {
   "cell_type": "code",
   "execution_count": 6,
   "metadata": {
    "collapsed": false
   },
   "outputs": [
    {
     "ename": "NameError",
     "evalue": "name 'var' is not defined",
     "output_type": "error",
     "traceback": [
      "\u001b[0;31m---------------------------------------------------------------------------\u001b[0m",
      "\u001b[0;31mNameError\u001b[0m                                 Traceback (most recent call last)",
      "\u001b[0;32m<ipython-input-6-5d73f6e1684c>\u001b[0m in \u001b[0;36m<module>\u001b[0;34m()\u001b[0m\n\u001b[0;32m----> 1\u001b[0;31m \u001b[0mvar\u001b[0m\u001b[0;34m\u001b[0m\u001b[0m\n\u001b[0m",
      "\u001b[0;31mNameError\u001b[0m: name 'var' is not defined"
     ]
    }
   ],
   "source": [
    "var"
   ]
  },
  {
   "cell_type": "markdown",
   "metadata": {
    "collapsed": true
   },
   "source": [
    "## Stochasticity on ZOU\n",
    "\n",
    "People have shown that, in small volume such as a single cell, the sharpness of the ZOU switch is not as big as in large volumes:\n",
    "http://www.sciencedirect.com/science/article/pii/S0006349500763776\n",
    "\n",
    "To do gillespie, use stochpy\n",
    "http://pythonhosted.org/StochPy/userguide_doc.html#module-1-demo"
   ]
  },
  {
   "cell_type": "code",
   "execution_count": null,
   "metadata": {
    "collapsed": true
   },
   "outputs": [],
   "source": []
  }
 ],
 "metadata": {
  "kernelspec": {
   "display_name": "Python [default]",
   "language": "python",
   "name": "python3"
  },
  "language_info": {
   "codemirror_mode": {
    "name": "ipython",
    "version": 3
   },
   "file_extension": ".py",
   "mimetype": "text/x-python",
   "name": "python",
   "nbconvert_exporter": "python",
   "pygments_lexer": "ipython3",
   "version": "3.5.2"
  }
 },
 "nbformat": 4,
 "nbformat_minor": 2
}
