{
 "cells": [
  {
   "cell_type": "markdown",
   "metadata": {
    "collapsed": true
   },
   "source": [
    "# Where does the switch like behavior comes from?\n",
    "\n",
    "http://www.pnas.org/content/93/19/10078.long"
   ]
  },
  {
   "cell_type": "markdown",
   "metadata": {},
   "source": [
    "## Packages and formating"
   ]
  },
  {
   "cell_type": "markdown",
   "metadata": {},
   "source": [
    "Import packages"
   ]
  },
  {
   "cell_type": "code",
   "execution_count": 3,
   "metadata": {
    "collapsed": true
   },
   "outputs": [],
   "source": [
    "import numpy as np\n",
    "import math\n",
    "import matplotlib.pyplot as plt\n",
    "from scipy.integrate import odeint\n",
    "from scipy.interpolate import interp1d\n",
    "from matplotlib import rc"
   ]
  },
  {
   "cell_type": "markdown",
   "metadata": {},
   "source": [
    "commands and definitions for nice latex rendering - nothing bio/physical"
   ]
  },
  {
   "cell_type": "code",
   "execution_count": 4,
   "metadata": {
    "collapsed": true
   },
   "outputs": [],
   "source": [
    "#for latex-rendering. (I guess with a lot of redundancy.. but it works!)\n",
    "rc('text', usetex=True) #\n",
    "plt.rcParams['text.usetex'] = True #this line turns \"ticks\" on axis into latex  (i think is it the same function as the line above. not sure. )\n",
    "plt.rcParams['text.latex.unicode'] = True \n",
    "#for the size of the exported figures\n",
    "plt.rcParams['figure.figsize'] = (24, 18)\n",
    "rc('text.latex', preamble=r'\\usepackage{cmbright}')#this line turns text in legends for instance into latex\n",
    "\n",
    "\n",
    "def round_to_n(x, n):\n",
    "    \" Round x to n significant figures \"\n",
    "    return round(x, -int(math.floor(np.sign(x) * math.log10(abs(x)))) + n)\n",
    "\n",
    "def str_fmt(x, n=2):\n",
    "    \" Format x into nice Latex rounding to n\"\n",
    "    if x<0.1:\n",
    "        if x!=.01 and x!=.001 and x!=.0001 and x!=.00001:\n",
    "            power = int(np.log10(round_to_n(x, 0)))-1\n",
    "            mypower=int(math.floor(np.sign(x) * math.log10(abs(x))))\n",
    "            f_SF = round_to_n(x, n) * pow(10, -power)\n",
    "            f_SF = math.floor(x*10**(-mypower+2))/100\n",
    "            return r\"${} \\, 10^{{ {} }}$\".format(f_SF, mypower)\n",
    "        else:\n",
    "            power = int(np.log10(round_to_n(x, 0)))\n",
    "            f_SF = round_to_n(x, n) * pow(10, -power)\n",
    "            return r\"${} \\, 10^{{ {} }}$\".format(f_SF, power)\n",
    "    elif x>99:\n",
    "        power = int(np.log10(round_to_n(x, 0)))\n",
    "        f_SF = round_to_n(x, n) * pow(10, -power)\n",
    "        return r\"${} \\, 10^{{ {} }}$\".format(f_SF, power)\n",
    "    else:\n",
    "        return r\"${}$\".format(x)\n",
    "    \n",
    "def str_fmt_round_numb(x, n=1):\n",
    "    \" Format x into nice Latex rounding to n\"\n",
    "    if x<0.1:\n",
    "        power = int(np.log10(round_to_n(x, 0)))-1\n",
    "        f_SF = round_to_n(x, n) * pow(10, -power)\n",
    "        return r\"${} \\, 10^{{ {} }}$\".format(f_SF, power)\n",
    "    elif x>99:\n",
    "        power = int(np.log10(round_to_n(x, 0)))\n",
    "        f_SF = round_to_n(x, n) * pow(10, -power)\n",
    "        return r\"${} \\, 10^{{ {} }}$\".format(f_SF, power)\n",
    "    else:\n",
    "        return r\"${}$\".format(x)\n",
    "\n",
    "def str_fmt_name_fig(x, n=2):\n",
    "    \" Format x into nice text - rounding to n\"\n",
    "    if x<0.1:\n",
    "        if x!=.01 and x!=.001 and x!=.0001 and x!=.00001:\n",
    "            power = int(np.log10(round_to_n(x, 0)))-1\n",
    "            mypower=int(math.floor(np.sign(x) * math.log10(abs(x))))\n",
    "            f_SF = round_to_n(x, n) * pow(10, -power)\n",
    "            f_SF = math.floor(x*10**(-mypower+2))/100\n",
    "            return r\"{}*10({})\".format(f_SF, mypower)\n",
    "        else:\n",
    "            power = int(np.log10(round_to_n(x, 0)))\n",
    "            f_SF = round_to_n(x, n) * pow(10, -power)\n",
    "            return r\"{}*10^({ })\".format(f_SF, power)\n",
    "    elif x>99:\n",
    "        power = int(np.log10(round_to_n(x, 0)))\n",
    "        f_SF = round_to_n(x, n) * pow(10, -power)\n",
    "        return r\"{}*10^({ })\".format(f_SF, power)\n",
    "    else:\n",
    "        return r\"{}$\".format(x)\n",
    "    \n"
   ]
  },
  {
   "cell_type": "markdown",
   "metadata": {},
   "source": [
    "## Endode equations of the model and a set of default parameters"
   ]
  },
  {
   "cell_type": "markdown",
   "metadata": {},
   "source": [
    "Choose values for parameters"
   ]
  },
  {
   "cell_type": "code",
   "execution_count": 5,
   "metadata": {
    "collapsed": false
   },
   "outputs": [],
   "source": [
    "scale = 1  #to be able to change units if needed\n",
    "\n",
    "tmax = 30        #solve the system of ODEs from t=0 to tmax (about 30 min for the cell to divide)\n",
    "tmaxLONG = 1000  #what would be the steady state? (look at longer times)\n",
    " \n",
    "\n",
    "\n",
    "WTV = 0.0023*scale  #not used in the code - small to have a small input in the cascade, cf Ferrell.. *)\n",
    "rasgapV = .0002*scale # not used \n",
    "\n",
    "k11V = 1 #(* randomly chosen *)\n",
    "k12V = 1\n",
    "\n",
    "d11V = 1 #(* randomly chosen *)\n",
    "d12V = 1 #(* randomly chosen *)\n",
    "a11V = 10000/scale #(* randomly chosen *)\n",
    "a12V = 10000/scale #(* randomly chosen *)\n",
    "nn = 10\n",
    "\n",
    "mostotV = .003*scale\n",
    "mektotV = 1.2*scale #(*1.2*)\n",
    "mekpasetotV = .0003*scale\n",
    "mapktotV = 1.2*scale\n",
    "mapkpasetotV = .12*scale\n",
    "e2totV = 0.0003*scale\n",
    "\n",
    "sostotV=1*scale\n",
    "\n",
    "a1V = 1000/scale\n",
    "a2V = 1000/scale\n",
    "a3V = 1000/scale #(* for crossing 10 *)\n",
    "a4V = 1000/scale #(* for crossing 500 *)\n",
    "a5V = 1000/scale\n",
    "a6V = 1000/scale\n",
    "a7V = 1000/scale\n",
    "a8V = 1000/scale\n",
    "a9V = 1000/scale\n",
    "a10V = 1000/scale\n",
    "\n",
    "\n",
    "d1V = 150 #(* for crossing 15 *)\n",
    "d2V = 150\n",
    "d3V = 150\n",
    "d4V = 150\n",
    "d5V = 150\n",
    "d6V = 150\n",
    "d7V = 150\n",
    "d8V = 150\n",
    "d9V = 150\n",
    "d10V = 150\n",
    "\n",
    "\n",
    "k1V = 150\n",
    "k2V = 150\n",
    "k3V = 150\n",
    "k4V = 150\n",
    "k5V = 150\n",
    "k6V = 150\n",
    "k7V = 150\n",
    "k8V = 150\n",
    "k9V = 150\n",
    "k10V = 150\n",
    "\n",
    "rasgtp_inputV=1*scale\n",
    "\n",
    "\n"
   ]
  },
  {
   "cell_type": "markdown",
   "metadata": {},
   "source": [
    "Encode equations of the model"
   ]
  },
  {
   "cell_type": "code",
   "execution_count": 6,
   "metadata": {
    "collapsed": true
   },
   "outputs": [],
   "source": [
    "var_names = 'rasgdp', 'WE1', 'WsE2', 'mos', 'mose1', 'mosstar', 'mosstare2', 'mek', 'mekmosstar', 'mekstar', 'mekstarmekpase', 'mekstarmosstar', \\\n",
    "    'mekstarstar', 'mekstarstarmekpase', 'mapk', 'mapkmekstarstar', 'mapkstar', \\\n",
    "    'mapkstarmekstarstar', 'mapkstarstar', 'mapkstarmapkpase', \\\n",
    "    'mapkstarstarmapkpase'\n",
    "    \n",
    "params_names = 'WT', 'a11', 'a12', 'd11', 'd12', 'k11', 'k12', 'rasgap', 'sostot','mostot', 'e2tot', 'mektot', 'mekpasetot', 'mapktot', 'mapkpasetot', \\\n",
    "    'a1', 'a2', 'a3', 'a4', 'a5', 'a6', 'a7', 'a8', 'a9', 'a10', \\\n",
    "    'd1', 'd2', 'd3', 'd4', 'd5', 'd6', 'd7', 'd8', 'd9', 'd10', \\\n",
    "    'k1', 'k2', 'k3', 'k4', 'k5', 'k6', 'k7', 'k8', 'k9', 'k10'\n",
    "\n",
    "# mos = kkk\n",
    "# mosstart = kkk*\n",
    "def equationsfullmodel(var, t, params):\n",
    "    \n",
    "    rasgdp, WE1, WsE2, mos, mose1, mosstar, mosstare2, mek, mekmosstar, mekstar, mekstarmekpase, mekstarmosstar,\\\n",
    "    mekstarstar,mekstarstarmekpase, mapk, mapkmekstarstar, mapkstar, \\\n",
    "    mapkstarmekstarstar, mapkstarstar, mapkstarmapkpase, \\\n",
    "    mapkstarstarmapkpase = var\n",
    "    \n",
    "    WT, a11, a12, d11, d12, k11, k12, rasgap, sostot, mostot, e2tot, mektot, mekpasetot, mapktot, mapkpasetot, \\\n",
    "    a1, a2, a3, a4, a5, a6, a7, a8, a9, a10, \\\n",
    "    d1, d2, d3, d4, d5, d6, d7, d8, d9, d10, \\\n",
    "    k1, k2, k3, k4, k5, k6, k7, k8, k9, k10 = params\n",
    "    \n",
    "    drasgdp = -a11*rasgdp*(sostot - WE1) + d11*WE1 + k12*WsE2\n",
    "    \n",
    "    dWE1 = a11*rasgdp*(sostot - WE1) - (d11 + k11)*WE1\n",
    "    \n",
    "    dWsE2 = a12*(WT - rasgdp - WE1 - WsE2)*(rasgap - WsE2) - (d12+k12)*WsE2\n",
    "    \n",
    "    #dmos = - a mos*e1 + d1 mos-e1 + k2 mos*-e2 !!! bizarre d'ecrire une reaction pour mos alors qu'on utilise sa conservation ...\n",
    "    dmos = -a1*(mostot - mosstar - mose1 - mosstare2 - mekmosstar - \\\n",
    "    mekstarmosstar)*((WT - rasgdp - WE1 - WsE2)- mose1) + d1*mose1 +\\\n",
    "    k2*mosstare2\n",
    "    \n",
    "    dmose1 = a1*(mostot - mosstar - mose1 - mosstare2 - mekmosstar - \\\n",
    "    mekstarmosstar)*((WT - rasgdp - WE1 - WsE2) - mose1) -(d1+k1)*mose1\n",
    "    \n",
    "    dmosstar = -a2*mosstar*(e2tot - mosstare2) + d2*mosstare2 + k1*mose1 + \\\n",
    "    (k3 + d3)*mekmosstar -  a3*mosstar*(mektot - mekstar - mekstarstar - \\\n",
    "    mekstarmekpase - mekstarstarmekpase - mekmosstar - mekstarmosstar - \\\n",
    "    mapkmekstarstar - mapkstarmekstarstar) + (k5 + d5)* mekstarmosstar - \\\n",
    "    a5*mekstar*mosstar\n",
    "      \n",
    "    dmosstare2 = a2*mosstar*(e2tot - mosstare2) - (d2 + k2)*mosstare2\n",
    "    \n",
    "    dmek = -a3*(mektot - mekstar - mekstarstar - mekstarmekpase - \\\n",
    "    mekstarstarmekpase - mekmosstar - mekstarmosstar - mapkmekstarstar - \\\n",
    "    mapkstarmekstarstar)*mosstar + d3*mekmosstar + k4*mekstarmekpase\n",
    "     \n",
    "    dmekmosstar = a3*(mektot - mekstar - mekstarstar - mekstarmekpase - \\\n",
    "    mekstarstarmekpase - mekmosstar - mekstarmosstar - mapkmekstarstar - \\\n",
    "    mapkstarmekstarstar)*mosstar - (d3 + k3)*mekmosstar\n",
    "    \n",
    "    dmekstar = -a4*mekstar*(mekpasetot - mekstarmekpase - mekstarstarmekpase)\\\n",
    "    + d4*mekstarmekpase + k3*mekmosstar + k6*mekstarstarmekpase + \\\n",
    "    d5*mekstarmosstar - a5*mekstar*mosstar\n",
    "    \n",
    "    dmekstarmekpase = a4*mekstar*(mekpasetot - mekstarmekpase - \\\n",
    "    mekstarstarmekpase)-(d4 + k4)*mekstarmekpase \n",
    "\n",
    "    dmekstarmosstar = a5*mekstar*mosstar - (d5 + k5)*mekstarmosstar\n",
    "    \n",
    "    dmekstarstar = k5*mekstarmosstar - a6*mekstarstar*(mekpasetot - \n",
    "    mekstarmekpase - mekstarstarmekpase) + d6*mekstarstarmekpase - \\\n",
    "    a7*mekstarstar*(mapktot - mapkstar - mapkstarstar - mapkstarmapkpase - \\\n",
    "    mapkstarstarmapkpase - mapkmekstarstar - mapkstarmekstarstar) + \\\n",
    "    (d7 + k7)*mapkmekstarstar + (d9 + k9)*mapkstarmekstarstar - \\\n",
    "    a9*mapkstar*mekstarstar\n",
    "    \n",
    "    dmekstarstarmekpase = a6*mekstarstar*(mekpasetot - mekstarmekpase \\\n",
    "    - mekstarstarmekpase) - (d6 + k6)*mekstarstarmekpase\n",
    "    \n",
    "    dmapk = -a7*(mapktot - mapkstar - mapkstarstar - mapkstarmapkpase - \\\n",
    "    mapkstarstarmapkpase - mapkmekstarstar - mapkstarmekstarstar)*mekstarstar \\\n",
    "    + d7*mapkmekstarstar + k8*mapkstarmapkpase\n",
    "    \n",
    "    dmapkmekstarstar = a7*(mapktot - mapkstar - mapkstarstar \\\n",
    "    - mapkstarmapkpase - mapkstarstarmapkpase - mapkmekstarstar - mapkstarmekstarstar)*mekstarstar - (d7 + k7)*mapkmekstarstar\n",
    "    \n",
    "    dmapkstar = k7*mapkmekstarstar - a8*mapkstar*(mapkpasetot - \\\n",
    "    mapkstarmapkpase - mapkstarstarmapkpase) + d8*mapkstarmapkpase - \\\n",
    "    a9*mapkstar*mekstarstar + d9*mapkstarmekstarstar + k10*mapkstarstarmapkpase\n",
    "    \n",
    "    dmapkstarmekstarstar =a9*mapkstar*mekstarstar - (d9 + k9)*mapkstarmekstarstar\n",
    "    \n",
    "    dmapkstarstar = -a10*mapkstarstar*(mapkpasetot - mapkstarmapkpase - \\\n",
    "    mapkstarstarmapkpase) + d10*mapkstarstarmapkpase + k9*mapkstarmekstarstar \n",
    "    \n",
    "    dmapkstarmapkpase = a8*mapkstar*(mapkpasetot - mapkstarmapkpase - \n",
    "    mapkstarstarmapkpase) - (d8 + k8)*mapkstarmapkpase\n",
    "    \n",
    "    dmapkstarstarmapkpase = a10*mapkstarstar*(mapkpasetot - mapkstarmapkpase - \\\n",
    "    mapkstarstarmapkpase) - (d10 + k10)*mapkstarstarmapkpase\n",
    "     \n",
    "    return [drasgdp, dWE1, dWsE2, dmos, dmose1,dmosstar,dmosstare2,dmek,dmekmosstar,dmekstar, \\\n",
    "    dmekstarmekpase, dmekstarmosstar, dmekstarstar, dmekstarstarmekpase, \\\n",
    "    dmapk, dmapkmekstarstar, dmapkstar, dmapkstarmekstarstar, dmapkstarstar, \\\n",
    "    dmapkstarmapkpase, dmapkstarstarmapkpase]\n"
   ]
  },
  {
   "cell_type": "code",
   "execution_count": 7,
   "metadata": {
    "collapsed": false
   },
   "outputs": [],
   "source": [
    "param_v  = [WTV, a11V, a12V, d11V, d12V, k11V, k12V, rasgapV, sostotV, mostotV, e2totV, mektotV, mekpasetotV, mapktotV, mapkpasetotV, \\\n",
    "    a1V, a2V, a3V, a4V, a5V, a6V, a7V, a8V, a9V, a10V, \\\n",
    "    d1V, d2V, d3V, d4V, d5V, d6V, d7V, d8V, d9V, d10V, \\\n",
    "    k1V, k2V, k3V, k4V, k5V, k6V, k7V, k8V, k9V, k10V]\n"
   ]
  },
  {
   "cell_type": "code",
   "execution_count": 37,
   "metadata": {
    "collapsed": false
   },
   "outputs": [
    {
     "data": {
      "text/plain": [
       "True"
      ]
     },
     "execution_count": 37,
     "metadata": {},
     "output_type": "execute_result"
    }
   ],
   "source": [
    "len(param_v) == len(params_names)"
   ]
  },
  {
   "cell_type": "code",
   "execution_count": null,
   "metadata": {
    "collapsed": true
   },
   "outputs": [],
   "source": [
    "for kk in range(len(params_names)):\n",
    "    print(kk, params_names[kk],param_v[kk] )\n",
    "    "
   ]
  },
  {
   "cell_type": "code",
   "execution_count": 38,
   "metadata": {
    "collapsed": false
   },
   "outputs": [],
   "source": [
    "# Input of the pathway: FGF signaling via SOS : \n",
    "maxn = 100; #number of points \n",
    "sostotlist=np.geomspace(10**(-8), WTV, num=maxn)*scale #logarithmic ploting\n",
    "maxplots=5;\n",
    "selectedinput=range(1,maxn,divmod(maxn,maxplots)[0])#we plot only n=maxplots plots \n"
   ]
  },
  {
   "cell_type": "code",
   "execution_count": 10,
   "metadata": {
    "collapsed": false
   },
   "outputs": [
    {
     "name": "stdout",
     "output_type": "stream",
     "text": [
      "The initial conditions are rasgdp(0) = WT, mos(0) = mostot, mek(0)= mektot and mapk(0) = mapktot\n"
     ]
    },
    {
     "data": {
      "text/plain": [
       "21"
      ]
     },
     "execution_count": 10,
     "metadata": {},
     "output_type": "execute_result"
    }
   ],
   "source": [
    "###################################\n",
    "# INITIAL CONDTIONS\n",
    "###################################\n",
    "\n",
    "initialcond = np.zeros(len(var_names))\n",
    "initialcond[0]=param_v[0]\n",
    "initialcond[0+3] = param_v[0+9]\n",
    "initialcond[4+3] = param_v[2+9]\n",
    "initialcond[11+3] = param_v[4+9]\n",
    "###################################\n",
    "# time array & array to store the output for various input levels of sos\n",
    "###################################\n",
    "\n",
    "tStop = tmax\n",
    "tInc = 0.001\n",
    "t = np.arange(0., tStop, tInc)\n",
    "\n",
    "print(\"The initial conditions are {}(0) = {}, {}(0) = {}, {}(0)= {} and {}(0) = {}\".format(var_names[0],params_names[0], \\\n",
    "                                                                                var_names[0+3],params_names[0+9], \\\n",
    "                                                                 var_names[4+3],params_names[2+9], \\\n",
    "                                                                 var_names[11+3],params_names[4+9]))\n",
    "len(initialcond)\n",
    "\n"
   ]
  },
  {
   "cell_type": "code",
   "execution_count": 1,
   "metadata": {
    "collapsed": false
   },
   "outputs": [
    {
     "ename": "NameError",
     "evalue": "name 'sostotlist' is not defined",
     "output_type": "error",
     "traceback": [
      "\u001b[0;31m---------------------------------------------------------------------------\u001b[0m",
      "\u001b[0;31mNameError\u001b[0m                                 Traceback (most recent call last)",
      "\u001b[0;32m<ipython-input-1-08ed9ff72684>\u001b[0m in \u001b[0;36m<module>\u001b[0;34m()\u001b[0m\n\u001b[1;32m      3\u001b[0m \u001b[0;31m###################################\u001b[0m\u001b[0;34m\u001b[0m\u001b[0;34m\u001b[0m\u001b[0m\n\u001b[1;32m      4\u001b[0m \u001b[0;34m\u001b[0m\u001b[0m\n\u001b[0;32m----> 5\u001b[0;31m \u001b[0msostotlist\u001b[0m\u001b[0;34m[\u001b[0m\u001b[0mmaxn\u001b[0m\u001b[0;34m-\u001b[0m\u001b[0;36m1\u001b[0m\u001b[0;34m]\u001b[0m\u001b[0;34m/\u001b[0m\u001b[0mWTV\u001b[0m\u001b[0;34m<\u001b[0m\u001b[0;36m10\u001b[0m\u001b[0;34m**\u001b[0m\u001b[0;34m(\u001b[0m\u001b[0;34m-\u001b[0m\u001b[0;36m1\u001b[0m\u001b[0;34m)\u001b[0m\u001b[0;34m\u001b[0m\u001b[0m\n\u001b[0m\u001b[1;32m      6\u001b[0m \u001b[0mrasgapV\u001b[0m\u001b[0;34m/\u001b[0m\u001b[0mWTV\u001b[0m\u001b[0;34m<\u001b[0m\u001b[0;36m10\u001b[0m\u001b[0;34m**\u001b[0m\u001b[0;34m(\u001b[0m\u001b[0;34m-\u001b[0m\u001b[0;36m1\u001b[0m\u001b[0;34m)\u001b[0m\u001b[0;34m\u001b[0m\u001b[0m\n\u001b[1;32m      7\u001b[0m \u001b[0;34m(\u001b[0m\u001b[0mk11V\u001b[0m\u001b[0;34m+\u001b[0m\u001b[0md11V\u001b[0m\u001b[0;34m)\u001b[0m\u001b[0;34m/\u001b[0m\u001b[0ma11V\u001b[0m\u001b[0;34m/\u001b[0m\u001b[0mWTV\u001b[0m\u001b[0;34m<\u001b[0m\u001b[0;36m10\u001b[0m\u001b[0;34m**\u001b[0m\u001b[0;34m(\u001b[0m\u001b[0;34m-\u001b[0m\u001b[0;36m1\u001b[0m\u001b[0;34m)\u001b[0m\u001b[0;34m\u001b[0m\u001b[0m\n",
      "\u001b[0;31mNameError\u001b[0m: name 'sostotlist' is not defined"
     ]
    }
   ],
   "source": [
    "###################################\n",
    "# ZOO CONDITIONS?\n",
    "###################################\n",
    "\n",
    "sostotlist[maxn-1]/WTV<10**(-1)\n",
    "rasgapV/WTV<10**(-1)\n",
    "(k11V+d11V)/a11V/WTV<10**(-1)\n",
    "(k12V+d12V)/a12V/WTV<10**(-1)"
   ]
  },
  {
   "cell_type": "markdown",
   "metadata": {},
   "source": [
    "## Define a function to compute Hill coefficients accurately "
   ]
  },
  {
   "cell_type": "code",
   "execution_count": 61,
   "metadata": {
    "collapsed": true
   },
   "outputs": [],
   "source": [
    "def hillcoef(input,output,equationsmodel,initialcond, t,param_v,index_param_input=40,index_output=15,numberpoints=100):\n",
    "    \"This function compute the Hill coefficient for a given a rough input/output set of points\" \n",
    "    \"It needs the ODEs that give the output given the input, the initial cnoditon, a time vector to solve ODEs\"\n",
    "    \"The parameters involved in the ODEs and the index of the parameter that correspond to changing the input\"\n",
    "    \"numberpoints: specify how many points we add localy to find the inputs giving .1 and .9 of the maxoutput\"\n",
    "    maxoutput=max(output)\n",
    "    #\n",
    "    approxloc09=np.abs(output-.9*maxoutput).argmin()#position in the array of approximate location\n",
    "    if approxloc09+2<len(input):\n",
    "        input09=np.linspace(input[approxloc09-2],input[approxloc09+2],numberpoints)#generate more output points near that approximate location \n",
    "    else:\n",
    "        input09=np.linspace(input[approxloc09-2],input[approxloc09+1],numberpoints)\n",
    "    output09=[-1]#initiate the local output array\n",
    "    #\n",
    "    #\n",
    "    for i in range(0,len(input09)):\n",
    "        param_v[index_param_input]=input09[i]\n",
    "        psoln = odeint(equationsmodel, initialcond, t, args=(param_v,))\n",
    "        outputtostore=psoln[len(t)-1,index_output]\n",
    "        output09=np.append(output09,[outputtostore])\n",
    "    # \n",
    "    output09=output09[1:]\n",
    "    inversef=interp1d(output09,input09)\n",
    "    loc09=inversef(.9*maxoutput)\n",
    "    #\n",
    "    #\n",
    "    approxloc01=np.abs(output-.1*maxoutput).argmin()#position in the array of approximate location\n",
    "    input01=np.linspace(input[approxloc01-2],input[approxloc01+2],numberpoints)#generate more output points near that approximate location \n",
    "    output01=[-1]\n",
    "    #\n",
    "    #\n",
    "    for i in range(0,len(input01)):\n",
    "        param_v[index_param_input]=input01[i]\n",
    "        psoln = odeint(equationsmodel, initialcond, t, args=(param_v,))\n",
    "        outputtostore=psoln[len(t)-1,index_output]\n",
    "        output01=np.append(output01,[outputtostore])\n",
    "    # \n",
    "    output01=output01[1:]\n",
    "    inversef=interp1d(output01,input01)\n",
    "    loc01=inversef(.1*maxoutput)\n",
    "    #\n",
    "    return math.log(81)/math.log(loc09/loc01)\n",
    "    \n"
   ]
  },
  {
   "cell_type": "markdown",
   "metadata": {},
   "source": [
    "## Warming-up : Loop over one input, solve equations, and store value reached by the output "
   ]
  },
  {
   "cell_type": "markdown",
   "metadata": {},
   "source": [
    "We have a system with one input (the concentration of rasdtp which is not directly a parameter of our model, it is computed from the value of rasgdp...). We take $maxn$ different input values and plot only 5 solutions. "
   ]
  },
  {
   "cell_type": "code",
   "execution_count": 32,
   "metadata": {
    "collapsed": false
   },
   "outputs": [
    {
     "name": "stdout",
     "output_type": "stream",
     "text": [
      "The input parameter is sostot and therefore the input index is 8\n",
      "The output variable is mapkstarstar, which is the 18th variable\n",
      "The maximal value of the output is mapktot, corresponding to parameter number 13\n",
      "The erk input value is rasgap, corresponding to parameter number 7\n"
     ]
    }
   ],
   "source": [
    "maxn = 100\n",
    "inputlist=np.geomspace(10**(-8),WTV,num=maxn)#np.logspace(-80, -1, num=maxn)*scale\n",
    "maxplots=5;\n",
    "selectedinput=range(1,maxn,divmod(maxn,maxplots)[0])#we plot only n=maxplots plots \n",
    "storeoutput=[]\n",
    "print(r'The input parameter is {} and therefore the input index is {}'.format(params_names[8],8))\n",
    "print(r'The output variable is {}, which is the 18th variable'.format(var_names[18]))\n",
    "print(r'The maximal value of the output is {}, corresponding to parameter number 13'.format(params_names[13]))\n",
    "print(r'The erk input value is {}, corresponding to parameter number 7'.format(params_names[7]))\n",
    "inputindex= 8\n",
    "outputindex =  18\n",
    "input2index=7\n",
    "maxoutputindex=13\n"
   ]
  },
  {
   "cell_type": "code",
   "execution_count": 28,
   "metadata": {
    "collapsed": false
   },
   "outputs": [
    {
     "data": {
      "image/png": "[encoded data removed]",
      "text/plain": [
       "<matplotlib.figure.Figure at 0x123f189e8>"
      ]
     },
     "metadata": {},
     "output_type": "display_data"
    }
   ],
   "source": [
    "#to number plots    np.arange(1,math.floor(len(range(0,maxn,divmod(maxn,10)[0])))+1)\n",
    "\n",
    "fig=plt.figure()\n",
    "plotnumber=0\n",
    "output=np.zeros(len(inputlist))\n",
    "\n",
    "for kk in range(len(inputlist)):\n",
    "    #value of input:\n",
    "    param_v[inputindex]=inputlist[kk]\n",
    "    #actually solving the equations:\n",
    "    psoln = odeint(equationsfullmodel, initialcond, t, args=(param_v,))\n",
    "    output[kk]=psoln[len(t)-1,outputindex]\n",
    "    if kk in selectedinput:\n",
    "\n",
    "        plotnumber=plotnumber+1\n",
    "        plt.subplot(math.floor(len(selectedinput)/2)+1,2,plotnumber)\n",
    "        plt.plot(psoln[:,outputindex],label=r\"$ \\textnormal{mapk \\star \\star}$\")\n",
    "        #plot max value of mapk star star\n",
    "        plt.plot(np.ones(len(t))*param_v[4],label=r\" \\textnormal{Mapk max}\")\n",
    "        plt.legend()\n",
    "        plt.title(r'Temporal evolution of Mapk $\\star \\star$ for fgf input value = {} and erk input value = {}'.format(str_fmt(param_v[inputindex],n=2),str_fmt(param_v[input2index],n=2)))\n",
    "        plt.yticks([0, param_v[maxoutputindex]/4, param_v[maxoutputindex]/2, 3*param_v[maxoutputindex]/4, param_v[maxoutputindex]],\n",
    "        ['$0$', r'{}'.format(str_fmt(param_v[maxoutputindex]/4)), r'{}'.format(str_fmt(param_v[maxoutputindex]/2)),r'{}'.format(str_fmt_round_numb(round_to_n(3*param_v[maxoutputindex]/4,2))), r'{}'.format(str_fmt(param_v[maxoutputindex]))])\n",
    "        plt.ylabel('output')\n",
    "        plt.xlabel('t')\n",
    "        \n",
    "hillc=hillcoef(inputlist,output,equationsfullmodel,initialcond, t,param_v,index_param_input=inputindex,index_output=outputindex,numberpoints=100)\n",
    "ax=plt.subplot(math.floor(len(selectedinput)/2)+1,2,plotnumber+1)\n",
    "ax.set_xscale('log')\n",
    "ax.plot(inputlist,output)\n",
    "plt.text(0.0001,0.05,r'Hill coefficient = {}'.format(round_to_n(hillc,2)), style='italic',bbox={'facecolor':'lightblue', 'alpha':0.5, 'pad':10})\n",
    "plt.ylabel('output at t=tmax')\n",
    "plt.xlabel('Fgf input')\n",
    "\n",
    "plt.show()\n",
    "\n",
    "\n"
   ]
  },
  {
   "cell_type": "code",
   "execution_count": 30,
   "metadata": {
    "collapsed": false
   },
   "outputs": [
    {
     "name": "stdout",
     "output_type": "stream",
     "text": [
      "rasgdp [  2.30000000e-03   2.24830820e-03   2.19893769e-03 ...,   1.70976331e-05\n",
      "   1.70976331e-05   1.70976331e-05]\n",
      "WE1 [  0.00000000e+00   5.16658641e-05   1.00959972e-04 ...,   1.81137655e-04\n",
      "   1.81137655e-04   1.81137655e-04]\n",
      "WsE2 [  0.00000000e+00   2.14893586e-11   1.45753500e-10 ...,   1.81137655e-04\n",
      "   1.81137655e-04   1.81137655e-04]\n",
      "[ 0.0023      0.00229997  0.0022999  ...,  0.00037937  0.00037937\n",
      "  0.00037937]\n",
      "inital gtp 0.0\n",
      "final gtp 0.0019206270577\n"
     ]
    },
    {
     "data": {
      "text/plain": [
       "0.98969328478529495"
      ]
     },
     "execution_count": 30,
     "metadata": {},
     "output_type": "execute_result"
    }
   ],
   "source": [
    "print(var_names[0],psoln[:,0])\n",
    "print(var_names[1],psoln[:,1])\n",
    "print(var_names[2],psoln[:,2])\n",
    "print(psoln[:,0]+psoln[:,1]+psoln[:,2])\n",
    "print('inital gtp',WTV-(psoln[0,0]+psoln[0,1]+psoln[0,2]))\n",
    "print('final gtp',WTV-(psoln[-1,0]+psoln[-1,1]+psoln[-1,2]))\n",
    "psoln[-1,outputindex]"
   ]
  },
  {
   "cell_type": "markdown",
   "metadata": {
    "collapsed": false
   },
   "source": [
    "## Our purpose 1 : compute Hill coefficients as a function of input 2 "
   ]
  },
  {
   "cell_type": "code",
   "execution_count": 62,
   "metadata": {
    "collapsed": false
   },
   "outputs": [
    {
     "name": "stdout",
     "output_type": "stream",
     "text": [
      "0\n",
      "1\n",
      "2\n",
      "3\n",
      "4\n",
      "5\n",
      "6\n",
      "7\n",
      "8\n",
      "9\n"
     ]
    }
   ],
   "source": [
    "\n",
    "# ERK/rasgap Input of the pathway\n",
    "maxn2 = 10; #number of points \n",
    "input2list=np.logspace(-8, 0, num=maxn2)*scale #logarithmic ploting\n",
    "\n",
    "\n",
    "#initiate list to store hill coefficient (as a function of input2(rasgap))\n",
    "listhill=np.zeros(len(input2list))\n",
    "\n",
    "for jj in range(len(input2list)):\n",
    "    \n",
    "    print(jj)\n",
    "    param_v[input2index]=input2list[jj]\n",
    "\n",
    "    fig=plt.figure()\n",
    "    plotnumber=0\n",
    "    output=np.zeros(len(inputlist))\n",
    "\n",
    "    for kk in range(len(inputlist)):\n",
    "        #value of input:\n",
    "        param_v[inputindex]=inputlist[kk]\n",
    "        #actually solving the equations:\n",
    "        psoln = odeint(equationsfullmodel, initialcond, t, args=(param_v,))\n",
    "        output[kk]=psoln[len(t)-1,outputindex]\n",
    "        if kk in selectedinput:\n",
    "\n",
    "            plotnumber=plotnumber+1\n",
    "            plt.subplot(math.floor(len(selectedinput)/2)+1,2,plotnumber)\n",
    "            plt.plot(psoln[:,outputindex],label=r\"$ \\textnormal{mapk \\star \\star}$\")\n",
    "            #plot max value of mapk star star\n",
    "            plt.plot(np.ones(len(t))*param_v[4],label=r\" \\textnormal{Mapk max}\")\n",
    "            plt.legend()\n",
    "            plt.title(r'Temporal evolution of Mapk $\\star \\star$ for fgf input value = {} and erk input value = {}'.format(str_fmt(param_v[inputindex],n=2),str_fmt(param_v[input2index],n=2)))\n",
    "            plt.yticks([0, param_v[maxoutputindex]/4, param_v[maxoutputindex]/2, 3*param_v[maxoutputindex]/4, param_v[maxoutputindex]],\n",
    "            ['$0$', r'{}'.format(str_fmt(param_v[maxoutputindex]/4)), r'{}'.format(str_fmt(param_v[maxoutputindex]/2)),r'{}'.format(str_fmt_round_numb(round_to_n(3*param_v[maxoutputindex]/4,2))), r'{}'.format(str_fmt(param_v[maxoutputindex]))])\n",
    "            plt.ylabel('output')\n",
    "            plt.xlabel('t')\n",
    "\n",
    "    hillc=hillcoef(inputlist,output,equationsfullmodel,initialcond, t,param_v,index_param_input=inputindex,index_output=outputindex,numberpoints=100)\n",
    "    listhill[jj]=hillc\n",
    "    ax=plt.subplot(math.floor(len(selectedinput)/2)+1,2,plotnumber+1)\n",
    "    ax.set_xscale('log')\n",
    "    ax.plot(inputlist,output)\n",
    "    plt.text(0.0001,0.05,r'Hill coefficient = {}'.format(round_to_n(hillc,2)), style='italic',bbox={'facecolor':'lightblue', 'alpha':0.5, 'pad':10})\n",
    "    plt.ylabel('output at t=tmax')\n",
    "    plt.xlabel('Fgf input')\n",
    "\n",
    "    fig.savefig(r'time_traces_erk_{}.pdf'.format(str_fmt_name_fig(param_v[input2index])))      \n",
    "    plt.close(fig)\n"
   ]
  },
  {
   "cell_type": "code",
   "execution_count": 65,
   "metadata": {
    "collapsed": false
   },
   "outputs": [
    {
     "data": {
      "image/png": "[encoded data removed]",
      "text/plain": [
       "<matplotlib.figure.Figure at 0x12810af28>"
      ]
     },
     "metadata": {},
     "output_type": "display_data"
    }
   ],
   "source": [
    "plt.close(fig)\n",
    "\n",
    "fig=plt.figure()\n",
    "plt.plot(input2list,listhill,label=r\"hill coef/input2\")#,label=\"computed points\"\n",
    "#plt.legend(loc=4)\n",
    "#plt.yticks([0, ymaxtick/4, ymaxtick/2, 3*ymaxtick/4, ymaxtick],\n",
    "#          ['$0$', r'{}'.format(str_fmt(ymaxtick/4)), r'{}'.format(str_fmt(ymaxtick/2)), r'{}'.format(str_fmt(3*ymaxtick/4)), r'{}'.format(str_fmt(ymaxtick))])\n",
    "plt.ylabel('hill coef')\n",
    "plt.xlabel('erk')\n",
    "plt.xscale('log')\n",
    "#plt.text(10,ymaxtick/4,r'Hill coef = {}'.format(hillcoef)))\n",
    "# !!! if you did an extrapolation and want to plot it add next 2 lines!!!!\n",
    "#plt.plot(selectedsos,f(selectedsos),label=\"extrapolation\")\n",
    "#plt.legend()\n",
    "\n",
    "#fig.savefig(r'hillcoef_erk.pdf')      \n",
    "plt.show()"
   ]
  },
  {
   "cell_type": "markdown",
   "metadata": {
    "collapsed": false
   },
   "source": [
    "## Our purpose 2 : compute Hill coefficients as a function of input 2 - explore parameter space"
   ]
  },
  {
   "cell_type": "code",
   "execution_count": 66,
   "metadata": {
    "collapsed": false
   },
   "outputs": [
    {
     "data": {
      "text/plain": [
       "[0.0023,\n",
       " 10000.0,\n",
       " 10000.0,\n",
       " 1,\n",
       " 1,\n",
       " 1,\n",
       " 1,\n",
       " 1.0,\n",
       " 0.00096076188774790749,\n",
       " 0.003,\n",
       " 0.0003,\n",
       " 1.2,\n",
       " 0.0003,\n",
       " 1.2,\n",
       " 0.12,\n",
       " 1000.0,\n",
       " 1000.0,\n",
       " 1000.0,\n",
       " 1000.0,\n",
       " 1000.0,\n",
       " 1000.0,\n",
       " 1000.0,\n",
       " 1000.0,\n",
       " 1000.0,\n",
       " 1000.0,\n",
       " 150,\n",
       " 150,\n",
       " 150,\n",
       " 150,\n",
       " 150,\n",
       " 150,\n",
       " 150,\n",
       " 150,\n",
       " 150,\n",
       " 150,\n",
       " 150,\n",
       " 150,\n",
       " 150,\n",
       " 150,\n",
       " 150,\n",
       " 3.7539218229773175e-05,\n",
       " 150,\n",
       " 150,\n",
       " 150,\n",
       " 150]"
      ]
     },
     "execution_count": 66,
     "metadata": {},
     "output_type": "execute_result"
    }
   ],
   "source": [
    "param_v=np.rand"
   ]
  },
  {
   "cell_type": "code",
   "execution_count": null,
   "metadata": {
    "collapsed": true
   },
   "outputs": [],
   "source": [
    "number_of_parameter_sets=10\n",
    "\n",
    "\n",
    "# ERK/rasgap Input of the pathway\n",
    "maxn2 = 10; #number of points \n",
    "input2list=np.logspace(-8, 0, num=maxn2)*scale #logarithmic ploting\n",
    "maxplot2=5\n",
    "selectedinput2=range(1,maxn2,divmod(maxn,maxplots2)[0])\n",
    "\n",
    "#initiate list to store hill coefficient (as a function of input2(rasgap))\n",
    "listhill=np.zeros(len(input2list))\n",
    "\n",
    "for jj in range(len(input2list)):\n",
    "    \n",
    "    print(jj)\n",
    "    param_v[input2index]=input2list[jj]\n",
    "\n",
    "    fig=plt.figure()\n",
    "    plotnumber=0\n",
    "    output=np.zeros(len(inputlist))\n",
    "\n",
    "    for kk in range(len(inputlist)):\n",
    "        #value of input:\n",
    "        param_v[inputindex]=inputlist[kk]\n",
    "        #actually solving the equations:\n",
    "        psoln = odeint(equationsfullmodel, initialcond, t, args=(param_v,))\n",
    "        output[kk]=psoln[len(t)-1,outputindex]\n",
    "        if (kk in selectedinput) and (jj in selectedinput2):\n",
    "\n",
    "            plotnumber=plotnumber+1\n",
    "            plt.subplot(math.floor(len(selectedinput)/2)+1,2,plotnumber)\n",
    "            plt.plot(psoln[:,outputindex],label=r\"$ \\textnormal{mapk \\star \\star}$\")\n",
    "            #plot max value of mapk star star\n",
    "            plt.plot(np.ones(len(t))*param_v[4],label=r\" \\textnormal{Mapk max}\")\n",
    "            plt.legend()\n",
    "            plt.title(r'Temporal evolution of Mapk $\\star \\star$ for fgf input value = {} and erk input value = {}'.format(str_fmt(param_v[inputindex],n=2),str_fmt(param_v[input2index],n=2)))\n",
    "            plt.yticks([0, param_v[maxoutputindex]/4, param_v[maxoutputindex]/2, 3*param_v[maxoutputindex]/4, param_v[maxoutputindex]],\n",
    "            ['$0$', r'{}'.format(str_fmt(param_v[maxoutputindex]/4)), r'{}'.format(str_fmt(param_v[maxoutputindex]/2)),r'{}'.format(str_fmt_round_numb(round_to_n(3*param_v[maxoutputindex]/4,2))), r'{}'.format(str_fmt(param_v[maxoutputindex]))])\n",
    "            plt.ylabel('output')\n",
    "            plt.xlabel('t')\n",
    "\n",
    "    hillc=hillcoef(inputlist,output,equationsfullmodel,initialcond, t,param_v,index_param_input=inputindex,index_output=outputindex,numberpoints=100)\n",
    "    listhill[jj]=hillc\n",
    "    ax=plt.subplot(math.floor(len(selectedinput)/2)+1,2,plotnumber+1)\n",
    "    ax.set_xscale('log')\n",
    "    ax.plot(inputlist,output)\n",
    "    plt.text(0.0001,0.05,r'Hill coefficient = {}'.format(round_to_n(hillc,2)), style='italic',bbox={'facecolor':'lightblue', 'alpha':0.5, 'pad':10})\n",
    "    plt.ylabel('output at t=tmax')\n",
    "    plt.xlabel('Fgf input')\n",
    "\n",
    "    fig.savefig(r'time_traces_erk_{}.pdf'.format(str_fmt_name_fig(param_v[input2index])))      \n",
    "    plt.close(fig)"
   ]
  }
 ],
 "metadata": {
  "anaconda-cloud": {},
  "kernelspec": {
   "display_name": "Python [default]",
   "language": "python",
   "name": "python3"
  },
  "language_info": {
   "codemirror_mode": {
    "name": "ipython",
    "version": 3
   },
   "file_extension": ".py",
   "mimetype": "text/x-python",
   "name": "python",
   "nbconvert_exporter": "python",
   "pygments_lexer": "ipython3",
   "version": "3.5.2"
  }
 },
 "nbformat": 4,
 "nbformat_minor": 2
}
